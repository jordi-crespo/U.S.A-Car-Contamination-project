{
 "cells": [
  {
   "cell_type": "code",
   "execution_count": 5,
   "metadata": {},
   "outputs": [],
   "source": [
    "import numpy as np\n",
    "import pandas as pd"
   ]
  },
  {
   "cell_type": "markdown",
   "metadata": {},
   "source": [
    "# Loading data"
   ]
  },
  {
   "cell_type": "code",
   "execution_count": 6,
   "metadata": {},
   "outputs": [],
   "source": [
    "vehicles = pd.read_csv(\"Data/vehiculos_procesado.csv\")"
   ]
  },
  {
   "cell_type": "code",
   "execution_count": 7,
   "metadata": {},
   "outputs": [
    {
     "data": {
      "text/plain": [
       "(35539, 13)"
      ]
     },
     "execution_count": 7,
     "metadata": {},
     "output_type": "execute_result"
    }
   ],
   "source": [
    "vehicles.shape"
   ]
  },
  {
   "cell_type": "code",
   "execution_count": 8,
   "metadata": {},
   "outputs": [
    {
     "data": {
      "text/html": [
       "<div>\n",
       "<style scoped>\n",
       "    .dataframe tbody tr th:only-of-type {\n",
       "        vertical-align: middle;\n",
       "    }\n",
       "\n",
       "    .dataframe tbody tr th {\n",
       "        vertical-align: top;\n",
       "    }\n",
       "\n",
       "    .dataframe thead th {\n",
       "        text-align: right;\n",
       "    }\n",
       "</style>\n",
       "<table border=\"1\" class=\"dataframe\">\n",
       "  <thead>\n",
       "    <tr style=\"text-align: right;\">\n",
       "      <th></th>\n",
       "      <th>fabricante</th>\n",
       "      <th>modelo</th>\n",
       "      <th>year</th>\n",
       "      <th>desplazamiento</th>\n",
       "      <th>cilindros</th>\n",
       "      <th>transmision</th>\n",
       "      <th>traccion</th>\n",
       "      <th>clase</th>\n",
       "      <th>combustible</th>\n",
       "      <th>consumo</th>\n",
       "      <th>co2</th>\n",
       "      <th>consumo_std</th>\n",
       "      <th>desplazamiento_std</th>\n",
       "    </tr>\n",
       "  </thead>\n",
       "  <tbody>\n",
       "    <tr>\n",
       "      <th>0</th>\n",
       "      <td>AM General</td>\n",
       "      <td>DJ Po Vehicle 2WD</td>\n",
       "      <td>1984</td>\n",
       "      <td>2.5</td>\n",
       "      <td>4.0</td>\n",
       "      <td>Automatic 3-spd</td>\n",
       "      <td>2-Wheel Drive</td>\n",
       "      <td>Special Purpose Vehicle 2WD</td>\n",
       "      <td>Regular</td>\n",
       "      <td>17</td>\n",
       "      <td>522.764706</td>\n",
       "      <td>-0.653195</td>\n",
       "      <td>-0.613385</td>\n",
       "    </tr>\n",
       "    <tr>\n",
       "      <th>1</th>\n",
       "      <td>AM General</td>\n",
       "      <td>FJ8c Post Office</td>\n",
       "      <td>1984</td>\n",
       "      <td>4.2</td>\n",
       "      <td>6.0</td>\n",
       "      <td>Automatic 3-spd</td>\n",
       "      <td>2-Wheel Drive</td>\n",
       "      <td>Special Purpose Vehicle 2WD</td>\n",
       "      <td>Regular</td>\n",
       "      <td>13</td>\n",
       "      <td>683.615385</td>\n",
       "      <td>-1.565710</td>\n",
       "      <td>0.676220</td>\n",
       "    </tr>\n",
       "    <tr>\n",
       "      <th>2</th>\n",
       "      <td>AM General</td>\n",
       "      <td>Post Office DJ5 2WD</td>\n",
       "      <td>1985</td>\n",
       "      <td>2.5</td>\n",
       "      <td>4.0</td>\n",
       "      <td>Automatic 3-spd</td>\n",
       "      <td>Rear-Wheel Drive</td>\n",
       "      <td>Special Purpose Vehicle 2WD</td>\n",
       "      <td>Regular</td>\n",
       "      <td>16</td>\n",
       "      <td>555.437500</td>\n",
       "      <td>-0.881324</td>\n",
       "      <td>-0.613385</td>\n",
       "    </tr>\n",
       "    <tr>\n",
       "      <th>3</th>\n",
       "      <td>AM General</td>\n",
       "      <td>Post Office DJ8 2WD</td>\n",
       "      <td>1985</td>\n",
       "      <td>4.2</td>\n",
       "      <td>6.0</td>\n",
       "      <td>Automatic 3-spd</td>\n",
       "      <td>Rear-Wheel Drive</td>\n",
       "      <td>Special Purpose Vehicle 2WD</td>\n",
       "      <td>Regular</td>\n",
       "      <td>13</td>\n",
       "      <td>683.615385</td>\n",
       "      <td>-1.565710</td>\n",
       "      <td>0.676220</td>\n",
       "    </tr>\n",
       "    <tr>\n",
       "      <th>4</th>\n",
       "      <td>ASC Incorporated</td>\n",
       "      <td>GNX</td>\n",
       "      <td>1987</td>\n",
       "      <td>3.8</td>\n",
       "      <td>6.0</td>\n",
       "      <td>Automatic 4-spd</td>\n",
       "      <td>Rear-Wheel Drive</td>\n",
       "      <td>Midsize Cars</td>\n",
       "      <td>Premium</td>\n",
       "      <td>16</td>\n",
       "      <td>555.437500</td>\n",
       "      <td>-0.881324</td>\n",
       "      <td>0.372783</td>\n",
       "    </tr>\n",
       "  </tbody>\n",
       "</table>\n",
       "</div>"
      ],
      "text/plain": [
       "         fabricante               modelo  year  desplazamiento  cilindros  \\\n",
       "0        AM General    DJ Po Vehicle 2WD  1984             2.5        4.0   \n",
       "1        AM General     FJ8c Post Office  1984             4.2        6.0   \n",
       "2        AM General  Post Office DJ5 2WD  1985             2.5        4.0   \n",
       "3        AM General  Post Office DJ8 2WD  1985             4.2        6.0   \n",
       "4  ASC Incorporated                  GNX  1987             3.8        6.0   \n",
       "\n",
       "       transmision          traccion                        clase combustible  \\\n",
       "0  Automatic 3-spd     2-Wheel Drive  Special Purpose Vehicle 2WD     Regular   \n",
       "1  Automatic 3-spd     2-Wheel Drive  Special Purpose Vehicle 2WD     Regular   \n",
       "2  Automatic 3-spd  Rear-Wheel Drive  Special Purpose Vehicle 2WD     Regular   \n",
       "3  Automatic 3-spd  Rear-Wheel Drive  Special Purpose Vehicle 2WD     Regular   \n",
       "4  Automatic 4-spd  Rear-Wheel Drive                 Midsize Cars     Premium   \n",
       "\n",
       "   consumo         co2  consumo_std  desplazamiento_std  \n",
       "0       17  522.764706    -0.653195           -0.613385  \n",
       "1       13  683.615385    -1.565710            0.676220  \n",
       "2       16  555.437500    -0.881324           -0.613385  \n",
       "3       13  683.615385    -1.565710            0.676220  \n",
       "4       16  555.437500    -0.881324            0.372783  "
      ]
     },
     "execution_count": 8,
     "metadata": {},
     "output_type": "execute_result"
    }
   ],
   "source": [
    "vehicles.head()"
   ]
  },
  {
   "cell_type": "code",
   "execution_count": null,
   "metadata": {},
   "outputs": [],
   "source": []
  },
  {
   "cell_type": "code",
   "execution_count": 9,
   "metadata": {},
   "outputs": [
    {
     "name": "stdout",
     "output_type": "stream",
     "text": [
      "fabricante | 0.0 | object\n",
      "modelo | 0.0 | object\n",
      "year | 0.0 | int64\n",
      "desplazamiento | 0.0 | float64\n",
      "cilindros | 0.0 | float64\n",
      "transmision | 0.0 | object\n",
      "traccion | 0.02093474774191733 | object\n",
      "clase | 0.0 | object\n",
      "combustible | 0.0 | object\n",
      "consumo | 0.0 | int64\n",
      "co2 | 0.0 | float64\n",
      "consumo_std | 0.0 | float64\n",
      "desplazamiento_std | 0.0 | float64\n"
     ]
    }
   ],
   "source": [
    "n_records = len(vehicles)\n",
    "def valores_inexistentes_col(df):\n",
    "    for columna in df:\n",
    "        print(\"{} | {} | {}\".format(\n",
    "            df[columna].name, len(df[df[columna].isnull()]) / (1.0*n_records), df[columna].dtype\n",
    "        ))\n",
    "\n",
    "valores_inexistentes_col(vehicles)"
   ]
  },
  {
   "cell_type": "code",
   "execution_count": 10,
   "metadata": {},
   "outputs": [],
   "source": [
    "vehicles_no_null = vehicles.dropna()"
   ]
  },
  {
   "cell_type": "code",
   "execution_count": 11,
   "metadata": {},
   "outputs": [
    {
     "name": "stdout",
     "output_type": "stream",
     "text": [
      "fabricante | 0.0 | object\n",
      "modelo | 0.0 | object\n",
      "year | 0.0 | int64\n",
      "desplazamiento | 0.0 | float64\n",
      "cilindros | 0.0 | float64\n",
      "transmision | 0.0 | object\n",
      "traccion | 0.0 | object\n",
      "clase | 0.0 | object\n",
      "combustible | 0.0 | object\n",
      "consumo | 0.0 | int64\n",
      "co2 | 0.0 | float64\n",
      "consumo_std | 0.0 | float64\n",
      "desplazamiento_std | 0.0 | float64\n"
     ]
    }
   ],
   "source": [
    "valores_inexistentes_col(vehicles_no_null)"
   ]
  },
  {
   "cell_type": "markdown",
   "metadata": {},
   "source": [
    "# Independent variables and dependent variable"
   ]
  },
  {
   "cell_type": "code",
   "execution_count": 12,
   "metadata": {
    "scrolled": true
   },
   "outputs": [
    {
     "data": {
      "text/plain": [
       "Compact Cars                          5005\n",
       "Subcompact Cars                       4154\n",
       "Midsize Cars                          3913\n",
       "Standard Pickup Trucks                2098\n",
       "Sport Utility Vehicle - 4WD           2074\n",
       "Large Cars                            1772\n",
       "Two Seaters                           1631\n",
       "Sport Utility Vehicle - 2WD           1613\n",
       "Small Station Wagons                  1345\n",
       "Special Purpose Vehicles              1323\n",
       "Minicompact Cars                      1184\n",
       "Standard Pickup Trucks 2WD            1116\n",
       "Vans                                  1030\n",
       "Standard Pickup Trucks 4WD             935\n",
       "Midsize-Large Station Wagons           591\n",
       "Small Sport Utility Vehicle 4WD        564\n",
       "Special Purpose Vehicle 2WD            555\n",
       "Small Pickup Trucks                    509\n",
       "Standard Sport Utility Vehicle 4WD     434\n",
       "Small Sport Utility Vehicle 2WD        417\n",
       "Vans, Cargo Type                       415\n",
       "Midsize Station Wagons                 412\n",
       "Small Pickup Trucks 2WD                405\n",
       "Minivan - 2WD                          339\n",
       "Vans, Passenger Type                   289\n",
       "Special Purpose Vehicle 4WD            225\n",
       "Small Pickup Trucks 4WD                205\n",
       "Standard Sport Utility Vehicle 2WD     185\n",
       "Minivan - 4WD                           46\n",
       "Standard Pickup Trucks/2wd               4\n",
       "Special Purpose Vehicles/2wd             2\n",
       "Special Purpose Vehicles/4wd             2\n",
       "Vans Passenger                           2\n",
       "Special Purpose Vehicle                  1\n",
       "Name: clase, dtype: int64"
      ]
     },
     "execution_count": 12,
     "metadata": {},
     "output_type": "execute_result"
    }
   ],
   "source": [
    "vehicles_no_null['clase'].value_counts()"
   ]
  },
  {
   "cell_type": "code",
   "execution_count": 13,
   "metadata": {},
   "outputs": [],
   "source": [
    "y = \"co2\"\n",
    "X = vehicles_no_null.drop(columns = y).columns\n",
    "X = vehicles_no_null[X].drop(columns = ['year','fabricante','consumo','combustible','modelo','transmision','clase']).columns"
   ]
  },
  {
   "cell_type": "code",
   "execution_count": 14,
   "metadata": {},
   "outputs": [
    {
     "data": {
      "text/plain": [
       "Index(['desplazamiento', 'cilindros', 'traccion', 'consumo_std',\n",
       "       'desplazamiento_std'],\n",
       "      dtype='object')"
      ]
     },
     "execution_count": 14,
     "metadata": {},
     "output_type": "execute_result"
    }
   ],
   "source": [
    "X"
   ]
  },
  {
   "cell_type": "code",
   "execution_count": 15,
   "metadata": {
    "scrolled": true
   },
   "outputs": [
    {
     "data": {
      "text/plain": [
       "Index(['desplazamiento', 'cilindros', 'consumo_std', 'desplazamiento_std'], dtype='object')"
      ]
     },
     "execution_count": 15,
     "metadata": {},
     "output_type": "execute_result"
    }
   ],
   "source": [
    "vehicles_no_null[X].select_dtypes([int, float]).columns"
   ]
  },
  {
   "cell_type": "markdown",
   "metadata": {},
   "source": [
    "# Separating numerical and categorical variables"
   ]
  },
  {
   "cell_type": "code",
   "execution_count": 16,
   "metadata": {},
   "outputs": [],
   "source": [
    "numeric_col = vehicles_no_null[X].select_dtypes([int, float]).columns\n",
    "categorical_col = vehicles_no_null[X].drop(columns = numeric_col).columns\n"
   ]
  },
  {
   "cell_type": "code",
   "execution_count": 17,
   "metadata": {},
   "outputs": [
    {
     "data": {
      "text/plain": [
       "Index(['traccion'], dtype='object')"
      ]
     },
     "execution_count": 17,
     "metadata": {},
     "output_type": "execute_result"
    }
   ],
   "source": [
    "categorical_col"
   ]
  },
  {
   "cell_type": "markdown",
   "metadata": {},
   "source": [
    "# Making pipelines to standarize numerical data and encode categorical data"
   ]
  },
  {
   "cell_type": "code",
   "execution_count": 18,
   "metadata": {},
   "outputs": [],
   "source": [
    "from sklearn import preprocessing, feature_extraction\n",
    "from sklearn.pipeline import Pipeline\n",
    "from sklearn import preprocessing, feature_extraction\n",
    "from sklearn.pipeline import make_pipeline, make_union\n",
    "from mlxtend.feature_selection import ColumnSelector\n",
    "from sklearn.preprocessing import StandardScaler\n",
    "from category_encoders import OneHotEncoder"
   ]
  },
  {
   "cell_type": "code",
   "execution_count": 19,
   "metadata": {},
   "outputs": [
    {
     "data": {
      "text/plain": [
       "ColumnSelector(cols=Index(['traccion'], dtype='object'), drop_axis=False)"
      ]
     },
     "execution_count": 19,
     "metadata": {},
     "output_type": "execute_result"
    }
   ],
   "source": [
    "ColumnSelector(cols=categorical_col)"
   ]
  },
  {
   "cell_type": "code",
   "execution_count": 20,
   "metadata": {
    "scrolled": true
   },
   "outputs": [
    {
     "data": {
      "text/plain": [
       "34795"
      ]
     },
     "execution_count": 20,
     "metadata": {},
     "output_type": "execute_result"
    }
   ],
   "source": [
    "categorical_pipeline = Pipeline([\n",
    "    ['categorical selector', ColumnSelector(cols=categorical_col)],\n",
    "    ['categorical_transformator',  preprocessing.OneHotEncoder(sparse = False)]\n",
    "   \n",
    "])\n",
    "\n",
    "len(categorical_pipeline.fit_transform(vehicles_no_null)[:])"
   ]
  },
  {
   "cell_type": "code",
   "execution_count": null,
   "metadata": {},
   "outputs": [],
   "source": []
  },
  {
   "cell_type": "code",
   "execution_count": 21,
   "metadata": {},
   "outputs": [
    {
     "data": {
      "text/plain": [
       "array([[-0.62202613, -1.02065076, -0.64522359, -0.62202613],\n",
       "       [ 0.66809641,  0.15143271, -1.5584696 ,  0.66809641],\n",
       "       [-0.62202613, -1.02065076, -0.87353509, -0.62202613],\n",
       "       [ 0.66809641,  0.15143271, -1.5584696 ,  0.66809641],\n",
       "       [ 0.36453816,  0.15143271, -0.87353509,  0.36453816]])"
      ]
     },
     "execution_count": 21,
     "metadata": {},
     "output_type": "execute_result"
    }
   ],
   "source": [
    "numerical_pipeline = Pipeline([\n",
    "    ['categorical selector', ColumnSelector(cols=numeric_col)],\n",
    "    ['numeric_transformator', preprocessing.StandardScaler()]\n",
    "])\n",
    "\n",
    "numerical_pipeline.fit_transform(vehicles_no_null)[:5]"
   ]
  },
  {
   "cell_type": "code",
   "execution_count": 22,
   "metadata": {},
   "outputs": [],
   "source": [
    "from sklearn.pipeline import FeatureUnion"
   ]
  },
  {
   "cell_type": "code",
   "execution_count": 23,
   "metadata": {},
   "outputs": [],
   "source": [
    "procesing_pipeline = FeatureUnion([\n",
    "    ('numerical_variables', numerical_pipeline),\n",
    "    ('categorical_variables', categorical_pipeline)    \n",
    "])"
   ]
  },
  {
   "cell_type": "code",
   "execution_count": 24,
   "metadata": {
    "scrolled": true
   },
   "outputs": [
    {
     "data": {
      "text/plain": [
       "array([[-0.62202613, -1.02065076, -0.64522359, ...,  0.        ,\n",
       "         0.        ,  0.        ],\n",
       "       [ 0.66809641,  0.15143271, -1.5584696 , ...,  0.        ,\n",
       "         0.        ,  0.        ],\n",
       "       [-0.62202613, -1.02065076, -0.87353509, ...,  0.        ,\n",
       "         0.        ,  1.        ],\n",
       "       ...,\n",
       "       [-1.68447999, -1.02065076,  1.40957992, ...,  1.        ,\n",
       "         0.        ,  0.        ],\n",
       "       [-1.53270087, -1.02065076,  1.18126842, ...,  1.        ,\n",
       "         0.        ,  0.        ],\n",
       "       [-1.68447999, -1.02065076,  1.18126842, ...,  1.        ,\n",
       "         0.        ,  0.        ]])"
      ]
     },
     "execution_count": 24,
     "metadata": {},
     "output_type": "execute_result"
    }
   ],
   "source": [
    "procesing_pipeline.fit_transform(vehicles_no_null)"
   ]
  },
  {
   "cell_type": "code",
   "execution_count": 25,
   "metadata": {},
   "outputs": [],
   "source": [
    "x_data = vehicles_no_null[X]\n",
    "y_data = vehicles_no_null[y]"
   ]
  },
  {
   "cell_type": "code",
   "execution_count": 26,
   "metadata": {
    "scrolled": true
   },
   "outputs": [
    {
     "data": {
      "text/html": [
       "<div>\n",
       "<style scoped>\n",
       "    .dataframe tbody tr th:only-of-type {\n",
       "        vertical-align: middle;\n",
       "    }\n",
       "\n",
       "    .dataframe tbody tr th {\n",
       "        vertical-align: top;\n",
       "    }\n",
       "\n",
       "    .dataframe thead th {\n",
       "        text-align: right;\n",
       "    }\n",
       "</style>\n",
       "<table border=\"1\" class=\"dataframe\">\n",
       "  <thead>\n",
       "    <tr style=\"text-align: right;\">\n",
       "      <th></th>\n",
       "      <th>desplazamiento</th>\n",
       "      <th>cilindros</th>\n",
       "      <th>traccion</th>\n",
       "      <th>consumo_std</th>\n",
       "      <th>desplazamiento_std</th>\n",
       "    </tr>\n",
       "  </thead>\n",
       "  <tbody>\n",
       "    <tr>\n",
       "      <th>0</th>\n",
       "      <td>2.5</td>\n",
       "      <td>4.0</td>\n",
       "      <td>2-Wheel Drive</td>\n",
       "      <td>-0.653195</td>\n",
       "      <td>-0.613385</td>\n",
       "    </tr>\n",
       "    <tr>\n",
       "      <th>1</th>\n",
       "      <td>4.2</td>\n",
       "      <td>6.0</td>\n",
       "      <td>2-Wheel Drive</td>\n",
       "      <td>-1.565710</td>\n",
       "      <td>0.676220</td>\n",
       "    </tr>\n",
       "    <tr>\n",
       "      <th>2</th>\n",
       "      <td>2.5</td>\n",
       "      <td>4.0</td>\n",
       "      <td>Rear-Wheel Drive</td>\n",
       "      <td>-0.881324</td>\n",
       "      <td>-0.613385</td>\n",
       "    </tr>\n",
       "    <tr>\n",
       "      <th>3</th>\n",
       "      <td>4.2</td>\n",
       "      <td>6.0</td>\n",
       "      <td>Rear-Wheel Drive</td>\n",
       "      <td>-1.565710</td>\n",
       "      <td>0.676220</td>\n",
       "    </tr>\n",
       "    <tr>\n",
       "      <th>4</th>\n",
       "      <td>3.8</td>\n",
       "      <td>6.0</td>\n",
       "      <td>Rear-Wheel Drive</td>\n",
       "      <td>-0.881324</td>\n",
       "      <td>0.372783</td>\n",
       "    </tr>\n",
       "    <tr>\n",
       "      <th>5</th>\n",
       "      <td>2.2</td>\n",
       "      <td>4.0</td>\n",
       "      <td>Front-Wheel Drive</td>\n",
       "      <td>0.487448</td>\n",
       "      <td>-0.840963</td>\n",
       "    </tr>\n",
       "    <tr>\n",
       "      <th>6</th>\n",
       "      <td>2.2</td>\n",
       "      <td>4.0</td>\n",
       "      <td>Front-Wheel Drive</td>\n",
       "      <td>0.943705</td>\n",
       "      <td>-0.840963</td>\n",
       "    </tr>\n",
       "    <tr>\n",
       "      <th>7</th>\n",
       "      <td>3.0</td>\n",
       "      <td>6.0</td>\n",
       "      <td>Front-Wheel Drive</td>\n",
       "      <td>0.031190</td>\n",
       "      <td>-0.234090</td>\n",
       "    </tr>\n",
       "    <tr>\n",
       "      <th>8</th>\n",
       "      <td>2.3</td>\n",
       "      <td>4.0</td>\n",
       "      <td>Front-Wheel Drive</td>\n",
       "      <td>0.487448</td>\n",
       "      <td>-0.765104</td>\n",
       "    </tr>\n",
       "    <tr>\n",
       "      <th>9</th>\n",
       "      <td>2.3</td>\n",
       "      <td>4.0</td>\n",
       "      <td>Front-Wheel Drive</td>\n",
       "      <td>0.943705</td>\n",
       "      <td>-0.765104</td>\n",
       "    </tr>\n",
       "    <tr>\n",
       "      <th>10</th>\n",
       "      <td>3.0</td>\n",
       "      <td>6.0</td>\n",
       "      <td>Front-Wheel Drive</td>\n",
       "      <td>0.031190</td>\n",
       "      <td>-0.234090</td>\n",
       "    </tr>\n",
       "    <tr>\n",
       "      <th>11</th>\n",
       "      <td>2.3</td>\n",
       "      <td>4.0</td>\n",
       "      <td>Front-Wheel Drive</td>\n",
       "      <td>0.487448</td>\n",
       "      <td>-0.765104</td>\n",
       "    </tr>\n",
       "    <tr>\n",
       "      <th>12</th>\n",
       "      <td>2.3</td>\n",
       "      <td>4.0</td>\n",
       "      <td>Front-Wheel Drive</td>\n",
       "      <td>0.943705</td>\n",
       "      <td>-0.765104</td>\n",
       "    </tr>\n",
       "    <tr>\n",
       "      <th>13</th>\n",
       "      <td>3.0</td>\n",
       "      <td>6.0</td>\n",
       "      <td>Front-Wheel Drive</td>\n",
       "      <td>0.031190</td>\n",
       "      <td>-0.234090</td>\n",
       "    </tr>\n",
       "    <tr>\n",
       "      <th>14</th>\n",
       "      <td>2.5</td>\n",
       "      <td>5.0</td>\n",
       "      <td>Front-Wheel Drive</td>\n",
       "      <td>0.031190</td>\n",
       "      <td>-0.613385</td>\n",
       "    </tr>\n",
       "    <tr>\n",
       "      <th>15</th>\n",
       "      <td>2.5</td>\n",
       "      <td>5.0</td>\n",
       "      <td>Front-Wheel Drive</td>\n",
       "      <td>0.031190</td>\n",
       "      <td>-0.613385</td>\n",
       "    </tr>\n",
       "    <tr>\n",
       "      <th>16</th>\n",
       "      <td>3.2</td>\n",
       "      <td>6.0</td>\n",
       "      <td>Front-Wheel Drive</td>\n",
       "      <td>-0.196938</td>\n",
       "      <td>-0.082372</td>\n",
       "    </tr>\n",
       "    <tr>\n",
       "      <th>17</th>\n",
       "      <td>2.5</td>\n",
       "      <td>5.0</td>\n",
       "      <td>Front-Wheel Drive</td>\n",
       "      <td>0.031190</td>\n",
       "      <td>-0.613385</td>\n",
       "    </tr>\n",
       "    <tr>\n",
       "      <th>18</th>\n",
       "      <td>3.2</td>\n",
       "      <td>6.0</td>\n",
       "      <td>Front-Wheel Drive</td>\n",
       "      <td>-0.196938</td>\n",
       "      <td>-0.082372</td>\n",
       "    </tr>\n",
       "    <tr>\n",
       "      <th>19</th>\n",
       "      <td>2.5</td>\n",
       "      <td>5.0</td>\n",
       "      <td>Front-Wheel Drive</td>\n",
       "      <td>0.031190</td>\n",
       "      <td>-0.613385</td>\n",
       "    </tr>\n",
       "    <tr>\n",
       "      <th>20</th>\n",
       "      <td>3.2</td>\n",
       "      <td>6.0</td>\n",
       "      <td>Front-Wheel Drive</td>\n",
       "      <td>-0.196938</td>\n",
       "      <td>-0.082372</td>\n",
       "    </tr>\n",
       "    <tr>\n",
       "      <th>21</th>\n",
       "      <td>3.2</td>\n",
       "      <td>6.0</td>\n",
       "      <td>Front-Wheel Drive</td>\n",
       "      <td>0.031190</td>\n",
       "      <td>-0.082372</td>\n",
       "    </tr>\n",
       "    <tr>\n",
       "      <th>22</th>\n",
       "      <td>3.2</td>\n",
       "      <td>6.0</td>\n",
       "      <td>Front-Wheel Drive</td>\n",
       "      <td>0.259319</td>\n",
       "      <td>-0.082372</td>\n",
       "    </tr>\n",
       "    <tr>\n",
       "      <th>23</th>\n",
       "      <td>3.2</td>\n",
       "      <td>6.0</td>\n",
       "      <td>Front-Wheel Drive</td>\n",
       "      <td>0.031190</td>\n",
       "      <td>-0.082372</td>\n",
       "    </tr>\n",
       "    <tr>\n",
       "      <th>24</th>\n",
       "      <td>3.2</td>\n",
       "      <td>6.0</td>\n",
       "      <td>Front-Wheel Drive</td>\n",
       "      <td>0.259319</td>\n",
       "      <td>-0.082372</td>\n",
       "    </tr>\n",
       "    <tr>\n",
       "      <th>25</th>\n",
       "      <td>3.2</td>\n",
       "      <td>6.0</td>\n",
       "      <td>Front-Wheel Drive</td>\n",
       "      <td>0.031190</td>\n",
       "      <td>-0.082372</td>\n",
       "    </tr>\n",
       "    <tr>\n",
       "      <th>26</th>\n",
       "      <td>3.2</td>\n",
       "      <td>6.0</td>\n",
       "      <td>Front-Wheel Drive</td>\n",
       "      <td>0.031190</td>\n",
       "      <td>-0.082372</td>\n",
       "    </tr>\n",
       "    <tr>\n",
       "      <th>27</th>\n",
       "      <td>3.2</td>\n",
       "      <td>6.0</td>\n",
       "      <td>Front-Wheel Drive</td>\n",
       "      <td>0.031190</td>\n",
       "      <td>-0.082372</td>\n",
       "    </tr>\n",
       "    <tr>\n",
       "      <th>28</th>\n",
       "      <td>3.2</td>\n",
       "      <td>6.0</td>\n",
       "      <td>Front-Wheel Drive</td>\n",
       "      <td>0.259319</td>\n",
       "      <td>-0.082372</td>\n",
       "    </tr>\n",
       "    <tr>\n",
       "      <th>29</th>\n",
       "      <td>3.2</td>\n",
       "      <td>6.0</td>\n",
       "      <td>Front-Wheel Drive</td>\n",
       "      <td>0.259319</td>\n",
       "      <td>-0.082372</td>\n",
       "    </tr>\n",
       "    <tr>\n",
       "      <th>...</th>\n",
       "      <td>...</td>\n",
       "      <td>...</td>\n",
       "      <td>...</td>\n",
       "      <td>...</td>\n",
       "      <td>...</td>\n",
       "    </tr>\n",
       "    <tr>\n",
       "      <th>35509</th>\n",
       "      <td>2.9</td>\n",
       "      <td>6.0</td>\n",
       "      <td>Rear-Wheel Drive</td>\n",
       "      <td>-1.109453</td>\n",
       "      <td>-0.309949</td>\n",
       "    </tr>\n",
       "    <tr>\n",
       "      <th>35510</th>\n",
       "      <td>2.9</td>\n",
       "      <td>6.0</td>\n",
       "      <td>Rear-Wheel Drive</td>\n",
       "      <td>-1.109453</td>\n",
       "      <td>-0.309949</td>\n",
       "    </tr>\n",
       "    <tr>\n",
       "      <th>35511</th>\n",
       "      <td>2.9</td>\n",
       "      <td>6.0</td>\n",
       "      <td>4-Wheel or All-Wheel Drive</td>\n",
       "      <td>-1.793839</td>\n",
       "      <td>-0.309949</td>\n",
       "    </tr>\n",
       "    <tr>\n",
       "      <th>35512</th>\n",
       "      <td>2.9</td>\n",
       "      <td>6.0</td>\n",
       "      <td>Rear-Wheel Drive</td>\n",
       "      <td>-1.109453</td>\n",
       "      <td>-0.309949</td>\n",
       "    </tr>\n",
       "    <tr>\n",
       "      <th>35513</th>\n",
       "      <td>2.9</td>\n",
       "      <td>6.0</td>\n",
       "      <td>Rear-Wheel Drive</td>\n",
       "      <td>-1.109453</td>\n",
       "      <td>-0.309949</td>\n",
       "    </tr>\n",
       "    <tr>\n",
       "      <th>35514</th>\n",
       "      <td>2.9</td>\n",
       "      <td>6.0</td>\n",
       "      <td>Rear-Wheel Drive</td>\n",
       "      <td>-1.109453</td>\n",
       "      <td>-0.309949</td>\n",
       "    </tr>\n",
       "    <tr>\n",
       "      <th>35515</th>\n",
       "      <td>2.9</td>\n",
       "      <td>6.0</td>\n",
       "      <td>Rear-Wheel Drive</td>\n",
       "      <td>-1.109453</td>\n",
       "      <td>-0.309949</td>\n",
       "    </tr>\n",
       "    <tr>\n",
       "      <th>35516</th>\n",
       "      <td>5.6</td>\n",
       "      <td>8.0</td>\n",
       "      <td>Rear-Wheel Drive</td>\n",
       "      <td>-1.565710</td>\n",
       "      <td>1.738247</td>\n",
       "    </tr>\n",
       "    <tr>\n",
       "      <th>35517</th>\n",
       "      <td>5.6</td>\n",
       "      <td>8.0</td>\n",
       "      <td>Rear-Wheel Drive</td>\n",
       "      <td>-1.565710</td>\n",
       "      <td>1.738247</td>\n",
       "    </tr>\n",
       "    <tr>\n",
       "      <th>35518</th>\n",
       "      <td>5.6</td>\n",
       "      <td>8.0</td>\n",
       "      <td>Rear-Wheel Drive</td>\n",
       "      <td>-1.565710</td>\n",
       "      <td>1.738247</td>\n",
       "    </tr>\n",
       "    <tr>\n",
       "      <th>35519</th>\n",
       "      <td>5.6</td>\n",
       "      <td>8.0</td>\n",
       "      <td>Rear-Wheel Drive</td>\n",
       "      <td>-1.565710</td>\n",
       "      <td>1.738247</td>\n",
       "    </tr>\n",
       "    <tr>\n",
       "      <th>35520</th>\n",
       "      <td>5.6</td>\n",
       "      <td>8.0</td>\n",
       "      <td>Rear-Wheel Drive</td>\n",
       "      <td>-1.565710</td>\n",
       "      <td>1.738247</td>\n",
       "    </tr>\n",
       "    <tr>\n",
       "      <th>35521</th>\n",
       "      <td>5.6</td>\n",
       "      <td>8.0</td>\n",
       "      <td>Rear-Wheel Drive</td>\n",
       "      <td>-1.565710</td>\n",
       "      <td>1.738247</td>\n",
       "    </tr>\n",
       "    <tr>\n",
       "      <th>35522</th>\n",
       "      <td>5.6</td>\n",
       "      <td>8.0</td>\n",
       "      <td>Rear-Wheel Drive</td>\n",
       "      <td>-1.565710</td>\n",
       "      <td>1.738247</td>\n",
       "    </tr>\n",
       "    <tr>\n",
       "      <th>35523</th>\n",
       "      <td>5.6</td>\n",
       "      <td>8.0</td>\n",
       "      <td>Rear-Wheel Drive</td>\n",
       "      <td>-1.565710</td>\n",
       "      <td>1.738247</td>\n",
       "    </tr>\n",
       "    <tr>\n",
       "      <th>35524</th>\n",
       "      <td>5.6</td>\n",
       "      <td>8.0</td>\n",
       "      <td>Rear-Wheel Drive</td>\n",
       "      <td>-1.565710</td>\n",
       "      <td>1.738247</td>\n",
       "    </tr>\n",
       "    <tr>\n",
       "      <th>35525</th>\n",
       "      <td>5.6</td>\n",
       "      <td>8.0</td>\n",
       "      <td>Rear-Wheel Drive</td>\n",
       "      <td>-1.565710</td>\n",
       "      <td>1.738247</td>\n",
       "    </tr>\n",
       "    <tr>\n",
       "      <th>35526</th>\n",
       "      <td>5.6</td>\n",
       "      <td>8.0</td>\n",
       "      <td>Rear-Wheel Drive</td>\n",
       "      <td>-1.565710</td>\n",
       "      <td>1.738247</td>\n",
       "    </tr>\n",
       "    <tr>\n",
       "      <th>35527</th>\n",
       "      <td>5.6</td>\n",
       "      <td>8.0</td>\n",
       "      <td>Rear-Wheel Drive</td>\n",
       "      <td>-1.565710</td>\n",
       "      <td>1.738247</td>\n",
       "    </tr>\n",
       "    <tr>\n",
       "      <th>35528</th>\n",
       "      <td>6.0</td>\n",
       "      <td>12.0</td>\n",
       "      <td>Rear-Wheel Drive</td>\n",
       "      <td>-1.793839</td>\n",
       "      <td>2.041684</td>\n",
       "    </tr>\n",
       "    <tr>\n",
       "      <th>35529</th>\n",
       "      <td>5.0</td>\n",
       "      <td>12.0</td>\n",
       "      <td>Rear-Wheel Drive</td>\n",
       "      <td>-1.565710</td>\n",
       "      <td>1.283093</td>\n",
       "    </tr>\n",
       "    <tr>\n",
       "      <th>35530</th>\n",
       "      <td>5.0</td>\n",
       "      <td>12.0</td>\n",
       "      <td>Rear-Wheel Drive</td>\n",
       "      <td>-1.565710</td>\n",
       "      <td>1.283093</td>\n",
       "    </tr>\n",
       "    <tr>\n",
       "      <th>35531</th>\n",
       "      <td>1.1</td>\n",
       "      <td>4.0</td>\n",
       "      <td>Front-Wheel Drive</td>\n",
       "      <td>1.399962</td>\n",
       "      <td>-1.675413</td>\n",
       "    </tr>\n",
       "    <tr>\n",
       "      <th>35532</th>\n",
       "      <td>1.3</td>\n",
       "      <td>4.0</td>\n",
       "      <td>Front-Wheel Drive</td>\n",
       "      <td>0.943705</td>\n",
       "      <td>-1.523695</td>\n",
       "    </tr>\n",
       "    <tr>\n",
       "      <th>35533</th>\n",
       "      <td>1.3</td>\n",
       "      <td>4.0</td>\n",
       "      <td>Front-Wheel Drive</td>\n",
       "      <td>0.715576</td>\n",
       "      <td>-1.523695</td>\n",
       "    </tr>\n",
       "    <tr>\n",
       "      <th>35534</th>\n",
       "      <td>1.3</td>\n",
       "      <td>4.0</td>\n",
       "      <td>Front-Wheel Drive</td>\n",
       "      <td>1.171834</td>\n",
       "      <td>-1.523695</td>\n",
       "    </tr>\n",
       "    <tr>\n",
       "      <th>35535</th>\n",
       "      <td>1.1</td>\n",
       "      <td>4.0</td>\n",
       "      <td>Front-Wheel Drive</td>\n",
       "      <td>1.399962</td>\n",
       "      <td>-1.675413</td>\n",
       "    </tr>\n",
       "    <tr>\n",
       "      <th>35536</th>\n",
       "      <td>1.1</td>\n",
       "      <td>4.0</td>\n",
       "      <td>Front-Wheel Drive</td>\n",
       "      <td>1.399962</td>\n",
       "      <td>-1.675413</td>\n",
       "    </tr>\n",
       "    <tr>\n",
       "      <th>35537</th>\n",
       "      <td>1.3</td>\n",
       "      <td>4.0</td>\n",
       "      <td>Front-Wheel Drive</td>\n",
       "      <td>1.171834</td>\n",
       "      <td>-1.523695</td>\n",
       "    </tr>\n",
       "    <tr>\n",
       "      <th>35538</th>\n",
       "      <td>1.1</td>\n",
       "      <td>4.0</td>\n",
       "      <td>Front-Wheel Drive</td>\n",
       "      <td>1.171834</td>\n",
       "      <td>-1.675413</td>\n",
       "    </tr>\n",
       "  </tbody>\n",
       "</table>\n",
       "<p>34795 rows × 5 columns</p>\n",
       "</div>"
      ],
      "text/plain": [
       "       desplazamiento  cilindros                    traccion  consumo_std  \\\n",
       "0                 2.5        4.0               2-Wheel Drive    -0.653195   \n",
       "1                 4.2        6.0               2-Wheel Drive    -1.565710   \n",
       "2                 2.5        4.0            Rear-Wheel Drive    -0.881324   \n",
       "3                 4.2        6.0            Rear-Wheel Drive    -1.565710   \n",
       "4                 3.8        6.0            Rear-Wheel Drive    -0.881324   \n",
       "5                 2.2        4.0           Front-Wheel Drive     0.487448   \n",
       "6                 2.2        4.0           Front-Wheel Drive     0.943705   \n",
       "7                 3.0        6.0           Front-Wheel Drive     0.031190   \n",
       "8                 2.3        4.0           Front-Wheel Drive     0.487448   \n",
       "9                 2.3        4.0           Front-Wheel Drive     0.943705   \n",
       "10                3.0        6.0           Front-Wheel Drive     0.031190   \n",
       "11                2.3        4.0           Front-Wheel Drive     0.487448   \n",
       "12                2.3        4.0           Front-Wheel Drive     0.943705   \n",
       "13                3.0        6.0           Front-Wheel Drive     0.031190   \n",
       "14                2.5        5.0           Front-Wheel Drive     0.031190   \n",
       "15                2.5        5.0           Front-Wheel Drive     0.031190   \n",
       "16                3.2        6.0           Front-Wheel Drive    -0.196938   \n",
       "17                2.5        5.0           Front-Wheel Drive     0.031190   \n",
       "18                3.2        6.0           Front-Wheel Drive    -0.196938   \n",
       "19                2.5        5.0           Front-Wheel Drive     0.031190   \n",
       "20                3.2        6.0           Front-Wheel Drive    -0.196938   \n",
       "21                3.2        6.0           Front-Wheel Drive     0.031190   \n",
       "22                3.2        6.0           Front-Wheel Drive     0.259319   \n",
       "23                3.2        6.0           Front-Wheel Drive     0.031190   \n",
       "24                3.2        6.0           Front-Wheel Drive     0.259319   \n",
       "25                3.2        6.0           Front-Wheel Drive     0.031190   \n",
       "26                3.2        6.0           Front-Wheel Drive     0.031190   \n",
       "27                3.2        6.0           Front-Wheel Drive     0.031190   \n",
       "28                3.2        6.0           Front-Wheel Drive     0.259319   \n",
       "29                3.2        6.0           Front-Wheel Drive     0.259319   \n",
       "...               ...        ...                         ...          ...   \n",
       "35509             2.9        6.0            Rear-Wheel Drive    -1.109453   \n",
       "35510             2.9        6.0            Rear-Wheel Drive    -1.109453   \n",
       "35511             2.9        6.0  4-Wheel or All-Wheel Drive    -1.793839   \n",
       "35512             2.9        6.0            Rear-Wheel Drive    -1.109453   \n",
       "35513             2.9        6.0            Rear-Wheel Drive    -1.109453   \n",
       "35514             2.9        6.0            Rear-Wheel Drive    -1.109453   \n",
       "35515             2.9        6.0            Rear-Wheel Drive    -1.109453   \n",
       "35516             5.6        8.0            Rear-Wheel Drive    -1.565710   \n",
       "35517             5.6        8.0            Rear-Wheel Drive    -1.565710   \n",
       "35518             5.6        8.0            Rear-Wheel Drive    -1.565710   \n",
       "35519             5.6        8.0            Rear-Wheel Drive    -1.565710   \n",
       "35520             5.6        8.0            Rear-Wheel Drive    -1.565710   \n",
       "35521             5.6        8.0            Rear-Wheel Drive    -1.565710   \n",
       "35522             5.6        8.0            Rear-Wheel Drive    -1.565710   \n",
       "35523             5.6        8.0            Rear-Wheel Drive    -1.565710   \n",
       "35524             5.6        8.0            Rear-Wheel Drive    -1.565710   \n",
       "35525             5.6        8.0            Rear-Wheel Drive    -1.565710   \n",
       "35526             5.6        8.0            Rear-Wheel Drive    -1.565710   \n",
       "35527             5.6        8.0            Rear-Wheel Drive    -1.565710   \n",
       "35528             6.0       12.0            Rear-Wheel Drive    -1.793839   \n",
       "35529             5.0       12.0            Rear-Wheel Drive    -1.565710   \n",
       "35530             5.0       12.0            Rear-Wheel Drive    -1.565710   \n",
       "35531             1.1        4.0           Front-Wheel Drive     1.399962   \n",
       "35532             1.3        4.0           Front-Wheel Drive     0.943705   \n",
       "35533             1.3        4.0           Front-Wheel Drive     0.715576   \n",
       "35534             1.3        4.0           Front-Wheel Drive     1.171834   \n",
       "35535             1.1        4.0           Front-Wheel Drive     1.399962   \n",
       "35536             1.1        4.0           Front-Wheel Drive     1.399962   \n",
       "35537             1.3        4.0           Front-Wheel Drive     1.171834   \n",
       "35538             1.1        4.0           Front-Wheel Drive     1.171834   \n",
       "\n",
       "       desplazamiento_std  \n",
       "0               -0.613385  \n",
       "1                0.676220  \n",
       "2               -0.613385  \n",
       "3                0.676220  \n",
       "4                0.372783  \n",
       "5               -0.840963  \n",
       "6               -0.840963  \n",
       "7               -0.234090  \n",
       "8               -0.765104  \n",
       "9               -0.765104  \n",
       "10              -0.234090  \n",
       "11              -0.765104  \n",
       "12              -0.765104  \n",
       "13              -0.234090  \n",
       "14              -0.613385  \n",
       "15              -0.613385  \n",
       "16              -0.082372  \n",
       "17              -0.613385  \n",
       "18              -0.082372  \n",
       "19              -0.613385  \n",
       "20              -0.082372  \n",
       "21              -0.082372  \n",
       "22              -0.082372  \n",
       "23              -0.082372  \n",
       "24              -0.082372  \n",
       "25              -0.082372  \n",
       "26              -0.082372  \n",
       "27              -0.082372  \n",
       "28              -0.082372  \n",
       "29              -0.082372  \n",
       "...                   ...  \n",
       "35509           -0.309949  \n",
       "35510           -0.309949  \n",
       "35511           -0.309949  \n",
       "35512           -0.309949  \n",
       "35513           -0.309949  \n",
       "35514           -0.309949  \n",
       "35515           -0.309949  \n",
       "35516            1.738247  \n",
       "35517            1.738247  \n",
       "35518            1.738247  \n",
       "35519            1.738247  \n",
       "35520            1.738247  \n",
       "35521            1.738247  \n",
       "35522            1.738247  \n",
       "35523            1.738247  \n",
       "35524            1.738247  \n",
       "35525            1.738247  \n",
       "35526            1.738247  \n",
       "35527            1.738247  \n",
       "35528            2.041684  \n",
       "35529            1.283093  \n",
       "35530            1.283093  \n",
       "35531           -1.675413  \n",
       "35532           -1.523695  \n",
       "35533           -1.523695  \n",
       "35534           -1.523695  \n",
       "35535           -1.675413  \n",
       "35536           -1.675413  \n",
       "35537           -1.523695  \n",
       "35538           -1.675413  \n",
       "\n",
       "[34795 rows x 5 columns]"
      ]
     },
     "execution_count": 26,
     "metadata": {},
     "output_type": "execute_result"
    }
   ],
   "source": [
    "x_data"
   ]
  },
  {
   "cell_type": "markdown",
   "metadata": {},
   "source": [
    "# Machine Learning regressor"
   ]
  },
  {
   "cell_type": "code",
   "execution_count": 27,
   "metadata": {},
   "outputs": [],
   "source": [
    "from xgboost import XGBRegressor\n",
    "from sklearn.model_selection import cross_val_score\n",
    "from sklearn.model_selection import cross_validate\n",
    "from sklearn import metrics"
   ]
  },
  {
   "cell_type": "code",
   "execution_count": 36,
   "metadata": {},
   "outputs": [],
   "source": [
    "XGBRegressor??"
   ]
  },
  {
   "cell_type": "code",
   "execution_count": 28,
   "metadata": {},
   "outputs": [],
   "source": [
    "def rmse_cross_val(estimator, X, y):\n",
    "    y_pred = estimator.predict(X)\n",
    "    return np.sqrt(metrics.mean_squared_error(y, y_pred))\n"
   ]
  },
  {
   "cell_type": "code",
   "execution_count": 29,
   "metadata": {},
   "outputs": [],
   "source": [
    "scoring = {\"mae\": \"neg_mean_absolute_error\", \"rmse\": rmse_cross_val,\"R2\": 'r2'}"
   ]
  },
  {
   "cell_type": "code",
   "execution_count": 30,
   "metadata": {},
   "outputs": [],
   "source": [
    "estimator = XGBRegressor()"
   ]
  },
  {
   "cell_type": "code",
   "execution_count": 31,
   "metadata": {},
   "outputs": [],
   "source": [
    "estimator_pipeline = Pipeline([\n",
    "    ('procesador', procesing_pipeline),\n",
    "    ('estimador', estimator)\n",
    "])"
   ]
  },
  {
   "cell_type": "code",
   "execution_count": 32,
   "metadata": {},
   "outputs": [],
   "source": [
    "score2 = cross_validate(estimator_pipeline, X= x_data, y= y_data, scoring=scoring,return_train_score=False, cv=5,n_jobs=2)"
   ]
  },
  {
   "cell_type": "code",
   "execution_count": 33,
   "metadata": {},
   "outputs": [
    {
     "data": {
      "text/plain": [
       "fit_time      2.082846\n",
       "score_time    0.056443\n",
       "test_mae     -2.937427\n",
       "test_rmse     9.154366\n",
       "test_R2       0.991471\n",
       "dtype: float64"
      ]
     },
     "execution_count": 33,
     "metadata": {},
     "output_type": "execute_result"
    }
   ],
   "source": [
    "df_score2 = pd.DataFrame(score2)\n",
    "df_score2.mean()"
   ]
  },
  {
   "cell_type": "code",
   "execution_count": 37,
   "metadata": {
    "scrolled": true
   },
   "outputs": [
    {
     "data": {
      "text/html": [
       "<div>\n",
       "<style scoped>\n",
       "    .dataframe tbody tr th:only-of-type {\n",
       "        vertical-align: middle;\n",
       "    }\n",
       "\n",
       "    .dataframe tbody tr th {\n",
       "        vertical-align: top;\n",
       "    }\n",
       "\n",
       "    .dataframe thead th {\n",
       "        text-align: right;\n",
       "    }\n",
       "</style>\n",
       "<table border=\"1\" class=\"dataframe\">\n",
       "  <thead>\n",
       "    <tr style=\"text-align: right;\">\n",
       "      <th></th>\n",
       "      <th>Fit time</th>\n",
       "      <th>Score Time</th>\n",
       "      <th>MAE Error</th>\n",
       "      <th>RMSE Error</th>\n",
       "      <th>R2</th>\n",
       "    </tr>\n",
       "  </thead>\n",
       "  <tbody>\n",
       "    <tr>\n",
       "      <th>XGBRegressor</th>\n",
       "      <td>2.082846</td>\n",
       "      <td>0.056443</td>\n",
       "      <td>2.937427</td>\n",
       "      <td>9.154366</td>\n",
       "      <td>0.991471</td>\n",
       "    </tr>\n",
       "  </tbody>\n",
       "</table>\n",
       "</div>"
      ],
      "text/plain": [
       "              Fit time  Score Time  MAE Error  RMSE Error        R2\n",
       "XGBRegressor  2.082846    0.056443   2.937427    9.154366  0.991471"
      ]
     },
     "execution_count": 37,
     "metadata": {},
     "output_type": "execute_result"
    }
   ],
   "source": [
    "resultados = pd.DataFrame(np.abs(df_score2.mean()), columns=[\"XGBRegressor\"]).T\n",
    "resultados = resultados.rename(columns={\"fit_time\": \"Fit time\", \"score_time\": \"Score Time\", \n",
    "                                        'test_mae':'MAE Error','test_rmse':'RMSE Error', 'test_R2':'R2' })\n",
    "resultados"
   ]
  },
  {
   "cell_type": "code",
   "execution_count": 39,
   "metadata": {},
   "outputs": [],
   "source": [
    "resultados.to_csv('XGBRegressor.csv')                 "
   ]
  },
  {
   "cell_type": "code",
   "execution_count": 41,
   "metadata": {},
   "outputs": [
    {
     "name": "stderr",
     "output_type": "stream",
     "text": [
      "C:\\Users\\Crespo_sexy\\Anaconda3\\lib\\site-packages\\xgboost\\core.py:587: FutureWarning: Series.base is deprecated and will be removed in a future version\n",
      "  if getattr(data, 'base', None) is not None and \\\n",
      "C:\\Users\\Crespo_sexy\\Anaconda3\\lib\\site-packages\\xgboost\\core.py:588: FutureWarning: Series.base is deprecated and will be removed in a future version\n",
      "  data.base is not None and isinstance(data, np.ndarray) \\\n"
     ]
    },
    {
     "name": "stdout",
     "output_type": "stream",
     "text": [
      "[19:32:55] WARNING: C:/Jenkins/workspace/xgboost-win64_release_0.90/src/objective/regression_obj.cu:152: reg:linear is now deprecated in favor of reg:squarederror.\n"
     ]
    },
    {
     "data": {
      "text/plain": [
       "Pipeline(memory=None,\n",
       "     steps=[('procesador', FeatureUnion(n_jobs=None,\n",
       "       transformer_list=[('numerical_variables', Pipeline(memory=None,\n",
       "     steps=[('categorical selector', ColumnSelector(cols=Index(['desplazamiento', 'cilindros', 'consumo_std', 'desplazamiento_std'], dtype='object'),\n",
       "        drop_axis=False)), ['nu...lpha=0, reg_lambda=1, scale_pos_weight=1, seed=None,\n",
       "       silent=None, subsample=1, verbosity=1))])"
      ]
     },
     "execution_count": 41,
     "metadata": {},
     "output_type": "execute_result"
    }
   ],
   "source": [
    "estimator_pipeline.fit(x_data,y_data)"
   ]
  },
  {
   "cell_type": "code",
   "execution_count": 42,
   "metadata": {},
   "outputs": [],
   "source": [
    "y_pred = estimator_pipeline.predict(x_data)"
   ]
  },
  {
   "cell_type": "markdown",
   "metadata": {},
   "source": [
    "# chart"
   ]
  },
  {
   "cell_type": "code",
   "execution_count": 45,
   "metadata": {},
   "outputs": [],
   "source": [
    "%matplotlib inline\n",
    "import matplotlib.pyplot as plt\n",
    "plt.rcParams['figure.figsize'] = (12,12)\n",
    "plt.rcParams['font.size'] = 16"
   ]
  },
  {
   "cell_type": "code",
   "execution_count": 47,
   "metadata": {},
   "outputs": [
    {
     "data": {
      "image/png": "[encoded data removed]",
      "text/plain": [
       "<Figure size 864x864 with 1 Axes>"
      ]
     },
     "metadata": {
      "needs_background": "light"
     },
     "output_type": "display_data"
    }
   ],
   "source": [
    "plt.scatter(y_pred,y_data)\n",
    "plt.xlabel(\"emission CO2 grams / mile\")\n",
    "plt.ylabel(\"emission CO2 grams / mile (Prediction)\")\n",
    "plt.legend();"
   ]
  },
  {
   "cell_type": "code",
   "execution_count": null,
   "metadata": {},
   "outputs": [],
   "source": []
  }
 ],
 "metadata": {
  "kernelspec": {
   "display_name": "Python 3",
   "language": "python",
   "name": "python3"
  },
  "language_info": {
   "codemirror_mode": {
    "name": "ipython",
    "version": 3
   },
   "file_extension": ".py",
   "mimetype": "text/x-python",
   "name": "python",
   "nbconvert_exporter": "python",
   "pygments_lexer": "ipython3",
   "version": "3.7.1"
  }
 },
 "nbformat": 4,
 "nbformat_minor": 2
}
