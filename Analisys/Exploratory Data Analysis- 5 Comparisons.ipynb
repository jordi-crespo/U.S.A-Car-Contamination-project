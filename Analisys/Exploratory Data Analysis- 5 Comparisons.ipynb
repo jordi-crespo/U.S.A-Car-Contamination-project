{
 "cells": [
  {
   "cell_type": "code",
   "execution_count": 1,
   "metadata": {},
   "outputs": [
    {
     "name": "stdout",
     "output_type": "stream",
     "text": [
      "2018-12-21T12:35:20-03:00\n",
      "\n",
      "CPython 3.6.0\n",
      "IPython 7.2.0\n",
      "\n",
      "compiler   : GCC 4.4.7 20120313 (Red Hat 4.4.7-1)\n",
      "system     : Linux\n",
      "release    : 4.15.0-43-generic\n",
      "machine    : x86_64\n",
      "processor  : x86_64\n",
      "CPU cores  : 8\n",
      "interpreter: 64bit\n"
     ]
    }
   ],
   "source": [
    "%load_ext watermark\n",
    "%watermark"
   ]
  },
  {
   "cell_type": "code",
   "execution_count": 2,
   "metadata": {},
   "outputs": [],
   "source": [
    "import pandas as pd\n",
    "import numpy as np\n",
    "import matplotlib.pyplot as plt\n",
    "import seaborn as sns"
   ]
  },
  {
   "cell_type": "code",
   "execution_count": 3,
   "metadata": {},
   "outputs": [],
   "source": [
    "%matplotlib inline\n",
    "\n",
    "plt.rcParams['figure.figsize'] = (10,10) # 10 pulgadas de ancho y 10 de alto para todos los plots"
   ]
  },
  {
   "cell_type": "markdown",
   "metadata": {},
   "source": [
    "### Lectura de datos"
   ]
  },
  {
   "cell_type": "code",
   "execution_count": 5,
   "metadata": {},
   "outputs": [],
   "source": [
    "vehicles = pd.read_pickle(\"../Data/vehiculos.3.variables_agrupadas.pkl\")"
   ]
  },
  {
   "cell_type": "code",
   "execution_count": 6,
   "metadata": {},
   "outputs": [
    {
     "data": {
      "text/plain": [
       "fabricante                object\n",
       "modelo                    object\n",
       "year                       int64\n",
       "desplazamiento           float64\n",
       "cilindros                float64\n",
       "transmision               object\n",
       "traccion                  object\n",
       "clase                     object\n",
       "combustible               object\n",
       "consumo                    int64\n",
       "co2                      float64\n",
       "clase_tipo              category\n",
       "traccion_tipo           category\n",
       "transmision_tipo        category\n",
       "combustible_tipo        category\n",
       "tamano_motor_tipo       category\n",
       "consumo_tipo            category\n",
       "co2_tipo                category\n",
       "consumo_litros_milla     float64\n",
       "dtype: object"
      ]
     },
     "execution_count": 6,
     "metadata": {},
     "output_type": "execute_result"
    }
   ],
   "source": [
    "vehicles.dtypes"
   ]
  },
  {
   "cell_type": "code",
   "execution_count": 7,
   "metadata": {},
   "outputs": [
    {
     "data": {
      "text/html": [
       "<div>\n",
       "<style scoped>\n",
       "    .dataframe tbody tr th:only-of-type {\n",
       "        vertical-align: middle;\n",
       "    }\n",
       "\n",
       "    .dataframe tbody tr th {\n",
       "        vertical-align: top;\n",
       "    }\n",
       "\n",
       "    .dataframe thead th {\n",
       "        text-align: right;\n",
       "    }\n",
       "</style>\n",
       "<table border=\"1\" class=\"dataframe\">\n",
       "  <thead>\n",
       "    <tr style=\"text-align: right;\">\n",
       "      <th></th>\n",
       "      <th>fabricante</th>\n",
       "      <th>modelo</th>\n",
       "      <th>year</th>\n",
       "      <th>desplazamiento</th>\n",
       "      <th>cilindros</th>\n",
       "      <th>transmision</th>\n",
       "      <th>traccion</th>\n",
       "      <th>clase</th>\n",
       "      <th>combustible</th>\n",
       "      <th>consumo</th>\n",
       "      <th>co2</th>\n",
       "      <th>clase_tipo</th>\n",
       "      <th>traccion_tipo</th>\n",
       "      <th>transmision_tipo</th>\n",
       "      <th>combustible_tipo</th>\n",
       "      <th>tamano_motor_tipo</th>\n",
       "      <th>consumo_tipo</th>\n",
       "      <th>co2_tipo</th>\n",
       "      <th>consumo_litros_milla</th>\n",
       "    </tr>\n",
       "  </thead>\n",
       "  <tbody>\n",
       "    <tr>\n",
       "      <th>0</th>\n",
       "      <td>AM General</td>\n",
       "      <td>DJ Po Vehicle 2WD</td>\n",
       "      <td>1984</td>\n",
       "      <td>2.5</td>\n",
       "      <td>4.0</td>\n",
       "      <td>Automatic 3-spd</td>\n",
       "      <td>2-Wheel Drive</td>\n",
       "      <td>Special Purpose Vehicle 2WD</td>\n",
       "      <td>Regular</td>\n",
       "      <td>17</td>\n",
       "      <td>522.764706</td>\n",
       "      <td>Vehículos Especiales</td>\n",
       "      <td>dos</td>\n",
       "      <td>Automatica</td>\n",
       "      <td>Normal</td>\n",
       "      <td>pequeño</td>\n",
       "      <td>alto</td>\n",
       "      <td>alto</td>\n",
       "      <td>0.222671</td>\n",
       "    </tr>\n",
       "    <tr>\n",
       "      <th>1</th>\n",
       "      <td>AM General</td>\n",
       "      <td>FJ8c Post Office</td>\n",
       "      <td>1984</td>\n",
       "      <td>4.2</td>\n",
       "      <td>6.0</td>\n",
       "      <td>Automatic 3-spd</td>\n",
       "      <td>2-Wheel Drive</td>\n",
       "      <td>Special Purpose Vehicle 2WD</td>\n",
       "      <td>Regular</td>\n",
       "      <td>13</td>\n",
       "      <td>683.615385</td>\n",
       "      <td>Vehículos Especiales</td>\n",
       "      <td>dos</td>\n",
       "      <td>Automatica</td>\n",
       "      <td>Normal</td>\n",
       "      <td>grande</td>\n",
       "      <td>muy alto</td>\n",
       "      <td>muy alto</td>\n",
       "      <td>0.291185</td>\n",
       "    </tr>\n",
       "    <tr>\n",
       "      <th>2</th>\n",
       "      <td>AM General</td>\n",
       "      <td>Post Office DJ5 2WD</td>\n",
       "      <td>1985</td>\n",
       "      <td>2.5</td>\n",
       "      <td>4.0</td>\n",
       "      <td>Automatic 3-spd</td>\n",
       "      <td>Rear-Wheel Drive</td>\n",
       "      <td>Special Purpose Vehicle 2WD</td>\n",
       "      <td>Regular</td>\n",
       "      <td>16</td>\n",
       "      <td>555.437500</td>\n",
       "      <td>Vehículos Especiales</td>\n",
       "      <td>dos</td>\n",
       "      <td>Automatica</td>\n",
       "      <td>Normal</td>\n",
       "      <td>pequeño</td>\n",
       "      <td>alto</td>\n",
       "      <td>alto</td>\n",
       "      <td>0.236588</td>\n",
       "    </tr>\n",
       "    <tr>\n",
       "      <th>3</th>\n",
       "      <td>AM General</td>\n",
       "      <td>Post Office DJ8 2WD</td>\n",
       "      <td>1985</td>\n",
       "      <td>4.2</td>\n",
       "      <td>6.0</td>\n",
       "      <td>Automatic 3-spd</td>\n",
       "      <td>Rear-Wheel Drive</td>\n",
       "      <td>Special Purpose Vehicle 2WD</td>\n",
       "      <td>Regular</td>\n",
       "      <td>13</td>\n",
       "      <td>683.615385</td>\n",
       "      <td>Vehículos Especiales</td>\n",
       "      <td>dos</td>\n",
       "      <td>Automatica</td>\n",
       "      <td>Normal</td>\n",
       "      <td>grande</td>\n",
       "      <td>muy alto</td>\n",
       "      <td>muy alto</td>\n",
       "      <td>0.291185</td>\n",
       "    </tr>\n",
       "    <tr>\n",
       "      <th>4</th>\n",
       "      <td>ASC Incorporated</td>\n",
       "      <td>GNX</td>\n",
       "      <td>1987</td>\n",
       "      <td>3.8</td>\n",
       "      <td>6.0</td>\n",
       "      <td>Automatic 4-spd</td>\n",
       "      <td>Rear-Wheel Drive</td>\n",
       "      <td>Midsize Cars</td>\n",
       "      <td>Premium</td>\n",
       "      <td>16</td>\n",
       "      <td>555.437500</td>\n",
       "      <td>Coches Medianos</td>\n",
       "      <td>dos</td>\n",
       "      <td>Automatica</td>\n",
       "      <td>Premium</td>\n",
       "      <td>grande</td>\n",
       "      <td>alto</td>\n",
       "      <td>alto</td>\n",
       "      <td>0.236588</td>\n",
       "    </tr>\n",
       "  </tbody>\n",
       "</table>\n",
       "</div>"
      ],
      "text/plain": [
       "         fabricante               modelo  year  desplazamiento  cilindros  \\\n",
       "0        AM General    DJ Po Vehicle 2WD  1984             2.5        4.0   \n",
       "1        AM General     FJ8c Post Office  1984             4.2        6.0   \n",
       "2        AM General  Post Office DJ5 2WD  1985             2.5        4.0   \n",
       "3        AM General  Post Office DJ8 2WD  1985             4.2        6.0   \n",
       "4  ASC Incorporated                  GNX  1987             3.8        6.0   \n",
       "\n",
       "       transmision          traccion                        clase combustible  \\\n",
       "0  Automatic 3-spd     2-Wheel Drive  Special Purpose Vehicle 2WD     Regular   \n",
       "1  Automatic 3-spd     2-Wheel Drive  Special Purpose Vehicle 2WD     Regular   \n",
       "2  Automatic 3-spd  Rear-Wheel Drive  Special Purpose Vehicle 2WD     Regular   \n",
       "3  Automatic 3-spd  Rear-Wheel Drive  Special Purpose Vehicle 2WD     Regular   \n",
       "4  Automatic 4-spd  Rear-Wheel Drive                 Midsize Cars     Premium   \n",
       "\n",
       "   consumo         co2            clase_tipo traccion_tipo transmision_tipo  \\\n",
       "0       17  522.764706  Vehículos Especiales           dos       Automatica   \n",
       "1       13  683.615385  Vehículos Especiales           dos       Automatica   \n",
       "2       16  555.437500  Vehículos Especiales           dos       Automatica   \n",
       "3       13  683.615385  Vehículos Especiales           dos       Automatica   \n",
       "4       16  555.437500       Coches Medianos           dos       Automatica   \n",
       "\n",
       "  combustible_tipo tamano_motor_tipo consumo_tipo  co2_tipo  \\\n",
       "0           Normal           pequeño         alto      alto   \n",
       "1           Normal            grande     muy alto  muy alto   \n",
       "2           Normal           pequeño         alto      alto   \n",
       "3           Normal            grande     muy alto  muy alto   \n",
       "4          Premium            grande         alto      alto   \n",
       "\n",
       "   consumo_litros_milla  \n",
       "0              0.222671  \n",
       "1              0.291185  \n",
       "2              0.236588  \n",
       "3              0.291185  \n",
       "4              0.236588  "
      ]
     },
     "execution_count": 7,
     "metadata": {},
     "output_type": "execute_result"
    }
   ],
   "source": [
    "vehicles.head()"
   ]
  },
  {
   "cell_type": "code",
   "execution_count": 8,
   "metadata": {},
   "outputs": [],
   "source": [
    "from ipywidgets import interact, fixed"
   ]
  },
  {
   "cell_type": "markdown",
   "metadata": {},
   "source": [
    "### Recuento por multiples grupos"
   ]
  },
  {
   "cell_type": "code",
   "execution_count": 10,
   "metadata": {},
   "outputs": [],
   "source": [
    "def pivot_counting(df, rows, columns, calc_field):\n",
    "    df_pivot = df.pivot_table(values=calc_field, \n",
    "                              index=rows, \n",
    "                              columns=columns, \n",
    "                              aggfunc=np.size\n",
    "                             ).dropna(axis=0, how='all')\n",
    "    return df_pivot"
   ]
  },
  {
   "cell_type": "code",
   "execution_count": 11,
   "metadata": {},
   "outputs": [
    {
     "data": {
      "text/html": [
       "<div>\n",
       "<style scoped>\n",
       "    .dataframe tbody tr th:only-of-type {\n",
       "        vertical-align: middle;\n",
       "    }\n",
       "\n",
       "    .dataframe tbody tr th {\n",
       "        vertical-align: top;\n",
       "    }\n",
       "\n",
       "    .dataframe thead th {\n",
       "        text-align: right;\n",
       "    }\n",
       "</style>\n",
       "<table border=\"1\" class=\"dataframe\">\n",
       "  <thead>\n",
       "    <tr style=\"text-align: right;\">\n",
       "      <th>consumo_tipo</th>\n",
       "      <th>muy bajo</th>\n",
       "      <th>bajo</th>\n",
       "      <th>moderado</th>\n",
       "      <th>alto</th>\n",
       "      <th>muy alto</th>\n",
       "    </tr>\n",
       "    <tr>\n",
       "      <th>combustible_tipo</th>\n",
       "      <th></th>\n",
       "      <th></th>\n",
       "      <th></th>\n",
       "      <th></th>\n",
       "      <th></th>\n",
       "    </tr>\n",
       "  </thead>\n",
       "  <tbody>\n",
       "    <tr>\n",
       "      <th>Hibrido</th>\n",
       "      <td>61.0</td>\n",
       "      <td>6.0</td>\n",
       "      <td>1.0</td>\n",
       "      <td>2.0</td>\n",
       "      <td>NaN</td>\n",
       "    </tr>\n",
       "    <tr>\n",
       "      <th>Normal</th>\n",
       "      <td>5686.0</td>\n",
       "      <td>4931.0</td>\n",
       "      <td>5736.0</td>\n",
       "      <td>3158.0</td>\n",
       "      <td>4567.0</td>\n",
       "    </tr>\n",
       "    <tr>\n",
       "      <th>Otros tipos de combustible</th>\n",
       "      <td>521.0</td>\n",
       "      <td>340.0</td>\n",
       "      <td>508.0</td>\n",
       "      <td>482.0</td>\n",
       "      <td>586.0</td>\n",
       "    </tr>\n",
       "    <tr>\n",
       "      <th>Premium</th>\n",
       "      <td>1386.0</td>\n",
       "      <td>2211.0</td>\n",
       "      <td>3836.0</td>\n",
       "      <td>1146.0</td>\n",
       "      <td>1627.0</td>\n",
       "    </tr>\n",
       "  </tbody>\n",
       "</table>\n",
       "</div>"
      ],
      "text/plain": [
       "consumo_tipo                muy bajo    bajo  moderado    alto  muy alto\n",
       "combustible_tipo                                                        \n",
       "Hibrido                         61.0     6.0       1.0     2.0       NaN\n",
       "Normal                        5686.0  4931.0    5736.0  3158.0    4567.0\n",
       "Otros tipos de combustible     521.0   340.0     508.0   482.0     586.0\n",
       "Premium                       1386.0  2211.0    3836.0  1146.0    1627.0"
      ]
     },
     "execution_count": 11,
     "metadata": {},
     "output_type": "execute_result"
    }
   ],
   "source": [
    "fuel_consumption = pivot_counting(vehicles,\"combustible_tipo\",\"consumo_tipo\", \"year\")\n",
    "fuel_consumption"
   ]
  },
  {
   "cell_type": "code",
   "execution_count": 18,
   "metadata": {},
   "outputs": [],
   "source": [
    "def heatmap_counting_types(df, col1, col2):\n",
    "    pivot_table = pivot_counting(df,col1, col2, \"year\")\n",
    "    sns.heatmap(pivot_table, annot=True, fmt='g')\n",
    "    plt.ylabel(col1)\n",
    "    plt.xlabel(col2)\n",
    "    plt.show()"
   ]
  },
  {
   "cell_type": "code",
   "execution_count": 19,
   "metadata": {},
   "outputs": [
    {
     "data": {
      "application/vnd.jupyter.widget-view+json": {
       "model_id": "c05c8a2b9793439f854d83991afbeb40",
       "version_major": 2,
       "version_minor": 0
      },
      "text/plain": [
       "interactive(children=(Dropdown(description='col1', options=('fabricante', 'modelo', 'year', 'desplazamiento', …"
      ]
     },
     "metadata": {},
     "output_type": "display_data"
    }
   ],
   "source": [
    "interact(heatmap_counting_types, col1=vehicles.columns, col2=vehicles.columns, df=fixed(vehicles));"
   ]
  },
  {
   "cell_type": "markdown",
   "metadata": {},
   "source": [
    "### Conclusions\n",
    "\n",
    "\n",
    "- There are more low-consumption two-wheel vehicles than 4-wheel drive\n",
    "- Manufacturers concentrate more on small / low consumption motor vehicles and very large / high consumption engine\n",
    "- Most cars have automatic transmission, with small cars having similar values ​​of automatic and manual cars\n",
    "- There are a number of trucks that are more polluting than any other type of car"
   ]
  },
  {
   "cell_type": "markdown",
   "metadata": {},
   "source": [
    "### Averages by categorical variables"
   ]
  },
  {
   "cell_type": "code",
   "execution_count": 20,
   "metadata": {},
   "outputs": [],
   "source": [
    "def means_by_category(col_grupo, col_calculo):\n",
    "    vehicles.groupby(col_grupo)[col_calculo].mean().plot.barh()\n",
    "    plt.ylabel(col_grupo)\n",
    "    plt.xlabel('Average values of {}'.format(col_calculo))\n",
    "    plt.show()"
   ]
  },
  {
   "cell_type": "code",
   "execution_count": 21,
   "metadata": {},
   "outputs": [],
   "source": [
    "numerical_columns = vehicles.select_dtypes(['int', 'float']).columns\n",
    "categorical_columns = vehicles.select_dtypes(['object', 'category']).columns\n",
    "type_columns = [col for col in vehicles.columns if col.endswith(\"_tipo\")]"
   ]
  },
  {
   "cell_type": "code",
   "execution_count": 22,
   "metadata": {},
   "outputs": [
    {
     "data": {
      "application/vnd.jupyter.widget-view+json": {
       "model_id": "061ccbbfe2d44bd2bf71fca11705093a",
       "version_major": 2,
       "version_minor": 0
      },
      "text/plain": [
       "interactive(children=(Dropdown(description='col_grupo', options=('fabricante', 'modelo', 'transmision', 'tracc…"
      ]
     },
     "metadata": {},
     "output_type": "display_data"
    }
   ],
   "source": [
    "interact(means_by_category, col_grupo=categorical_columns, col_calculo=numerical_columns);"
   ]
  },
  {
   "cell_type": "markdown",
   "metadata": {},
   "source": [
    "#### Conclusions\n",
    "\n",
    "\n",
    "- Vehicles with automatic transmission have slightly higher CO2 and consumption values\n",
    "\n",
    "- Vans and vans have the highest consumption (around 0.25 liters / mile). On the other hand, family and small cars have the lowest gasoline consumption (~ 0.15 liters / mile)\n",
    "\n",
    "- Hybrid vehicles emit less than half of CO2 than other vehicles (which have similar emissions)"
   ]
  },
  {
   "cell_type": "markdown",
   "metadata": {},
   "source": [
    "### Average for multiple types"
   ]
  },
  {
   "cell_type": "code",
   "execution_count": 25,
   "metadata": {},
   "outputs": [],
   "source": [
    "def pivot_media(rows, columns, calc_field):\n",
    "    df_pivot = vehicles.pivot_table(values=calc_field, \n",
    "                              index=rows, \n",
    "                              columns=columns, \n",
    "                              aggfunc=np.mean\n",
    "                             ).dropna(axis=0, how='all')\n",
    "    return df_pivot"
   ]
  },
  {
   "cell_type": "code",
   "execution_count": 26,
   "metadata": {},
   "outputs": [
    {
     "data": {
      "text/html": [
       "<div>\n",
       "<style scoped>\n",
       "    .dataframe tbody tr th:only-of-type {\n",
       "        vertical-align: middle;\n",
       "    }\n",
       "\n",
       "    .dataframe tbody tr th {\n",
       "        vertical-align: top;\n",
       "    }\n",
       "\n",
       "    .dataframe thead th {\n",
       "        text-align: right;\n",
       "    }\n",
       "</style>\n",
       "<table border=\"1\" class=\"dataframe\">\n",
       "  <thead>\n",
       "    <tr style=\"text-align: right;\">\n",
       "      <th>clase_tipo</th>\n",
       "      <th>Camionetas</th>\n",
       "      <th>Coche Familiar</th>\n",
       "      <th>Coches Grandes</th>\n",
       "      <th>Coches Medianos</th>\n",
       "      <th>Coches pequeños</th>\n",
       "      <th>Deportivos</th>\n",
       "      <th>Furgoneta</th>\n",
       "      <th>Vehículos Especiales</th>\n",
       "    </tr>\n",
       "    <tr>\n",
       "      <th>combustible_tipo</th>\n",
       "      <th></th>\n",
       "      <th></th>\n",
       "      <th></th>\n",
       "      <th></th>\n",
       "      <th></th>\n",
       "      <th></th>\n",
       "      <th></th>\n",
       "      <th></th>\n",
       "    </tr>\n",
       "  </thead>\n",
       "  <tbody>\n",
       "    <tr>\n",
       "      <th>Hibrido</th>\n",
       "      <td>NaN</td>\n",
       "      <td>NaN</td>\n",
       "      <td>221.875000</td>\n",
       "      <td>127.380952</td>\n",
       "      <td>149.645161</td>\n",
       "      <td>260.222222</td>\n",
       "      <td>106.000000</td>\n",
       "      <td>NaN</td>\n",
       "    </tr>\n",
       "    <tr>\n",
       "      <th>Normal</th>\n",
       "      <td>560.216673</td>\n",
       "      <td>399.493604</td>\n",
       "      <td>461.726146</td>\n",
       "      <td>409.673286</td>\n",
       "      <td>384.393158</td>\n",
       "      <td>476.788251</td>\n",
       "      <td>590.807827</td>\n",
       "      <td>543.838453</td>\n",
       "    </tr>\n",
       "    <tr>\n",
       "      <th>Otros tipos de combustible</th>\n",
       "      <td>552.958788</td>\n",
       "      <td>391.161924</td>\n",
       "      <td>447.490631</td>\n",
       "      <td>412.662543</td>\n",
       "      <td>348.957271</td>\n",
       "      <td>520.672914</td>\n",
       "      <td>602.867693</td>\n",
       "      <td>559.031182</td>\n",
       "    </tr>\n",
       "    <tr>\n",
       "      <th>Premium</th>\n",
       "      <td>644.975464</td>\n",
       "      <td>439.247746</td>\n",
       "      <td>520.511823</td>\n",
       "      <td>479.033374</td>\n",
       "      <td>467.943014</td>\n",
       "      <td>515.605886</td>\n",
       "      <td>547.793508</td>\n",
       "      <td>599.268790</td>\n",
       "    </tr>\n",
       "  </tbody>\n",
       "</table>\n",
       "</div>"
      ],
      "text/plain": [
       "clase_tipo                  Camionetas  Coche Familiar  Coches Grandes  \\\n",
       "combustible_tipo                                                         \n",
       "Hibrido                            NaN             NaN      221.875000   \n",
       "Normal                      560.216673      399.493604      461.726146   \n",
       "Otros tipos de combustible  552.958788      391.161924      447.490631   \n",
       "Premium                     644.975464      439.247746      520.511823   \n",
       "\n",
       "clase_tipo                  Coches Medianos  Coches pequeños  Deportivos  \\\n",
       "combustible_tipo                                                           \n",
       "Hibrido                          127.380952       149.645161  260.222222   \n",
       "Normal                           409.673286       384.393158  476.788251   \n",
       "Otros tipos de combustible       412.662543       348.957271  520.672914   \n",
       "Premium                          479.033374       467.943014  515.605886   \n",
       "\n",
       "clase_tipo                   Furgoneta  Vehículos Especiales  \n",
       "combustible_tipo                                              \n",
       "Hibrido                     106.000000                   NaN  \n",
       "Normal                      590.807827            543.838453  \n",
       "Otros tipos de combustible  602.867693            559.031182  \n",
       "Premium                     547.793508            599.268790  "
      ]
     },
     "execution_count": 26,
     "metadata": {},
     "output_type": "execute_result"
    }
   ],
   "source": [
    "pivot_media(\"combustible_tipo\",\"clase_tipo\", \"co2\")"
   ]
  },
  {
   "cell_type": "code",
   "execution_count": 27,
   "metadata": {},
   "outputs": [],
   "source": [
    "def heatmap_medias_tipos(col1, col2, col3):\n",
    "    pivot_table = pivot_media(col1, col2, col3)\n",
    "    sns.heatmap(pivot_table, annot=True, fmt='g')\n",
    "    sns.plt.ylabel(col1)\n",
    "    sns.plt.xlabel(col2)\n",
    "    plt.show()"
   ]
  },
  {
   "cell_type": "code",
   "execution_count": 28,
   "metadata": {},
   "outputs": [
    {
     "data": {
      "application/vnd.jupyter.widget-view+json": {
       "model_id": "0581cc65f235448a92c1c81783cad075",
       "version_major": 2,
       "version_minor": 0
      },
      "text/plain": [
       "interactive(children=(Dropdown(description='col1', options=('fabricante', 'modelo', 'year', 'desplazamiento', …"
      ]
     },
     "metadata": {},
     "output_type": "display_data"
    }
   ],
   "source": [
    "interact(heatmap_medias_tipos, col1=vehicles.columns, col2=vehicles.columns, col3=numerical_columns);"
   ]
  },
  {
   "cell_type": "markdown",
   "metadata": {},
   "source": [
    "#### Conclusions\n",
    "\n",
    "\n",
    "- Premium gas trucks consume 38% more than small vehicles that use the same type of gasoline"
   ]
  },
  {
   "cell_type": "markdown",
   "metadata": {},
   "source": [
    "###  Comparison of trends (temporary)"
   ]
  },
  {
   "cell_type": "markdown",
   "metadata": {
    "collapsed": true
   },
   "source": [
    "\n",
    "In this particular dataset, I have a temporary variable `year`. To which we take a look in a previous section but that should be observed again. We can consider it an ordinal variable (since it is not a continuous variable).\n",
    "\n",
    "For which it makes sense to see evolution. For this, line graphics are ideal."
   ]
  },
  {
   "cell_type": "code",
   "execution_count": 29,
   "metadata": {},
   "outputs": [],
   "source": [
    "vehicles_pre_2017 = vehicles.query(\"year<2017\")"
   ]
  },
  {
   "cell_type": "code",
   "execution_count": 30,
   "metadata": {},
   "outputs": [
    {
     "data": {
      "text/plain": [
       "<matplotlib.axes._subplots.AxesSubplot at 0x7fe65f250240>"
      ]
     },
     "execution_count": 30,
     "metadata": {},
     "output_type": "execute_result"
    },
    {
     "data": {
      "image/png": "[encoded data removed]",
      "text/plain": [
       "<Figure size 720x720 with 1 Axes>"
      ]
     },
     "metadata": {
      "needs_background": "light"
     },
     "output_type": "display_data"
    }
   ],
   "source": [
    "vehicles_pre_2017.groupby('year')['co2'].mean().plot()"
   ]
  },
  {
   "cell_type": "markdown",
   "metadata": {},
   "source": [
    "\n",
    "In general, the emission of CO2 has been reduced considerably over time"
   ]
  },
  {
   "cell_type": "code",
   "execution_count": 33,
   "metadata": {},
   "outputs": [],
   "source": [
    "def evolución_means(col_calculo):\n",
    "    vehicles_pre_2017.groupby('year')[col_calculo].mean().plot()\n",
    "    plt.show()"
   ]
  },
  {
   "cell_type": "code",
   "execution_count": 34,
   "metadata": {},
   "outputs": [
    {
     "data": {
      "application/vnd.jupyter.widget-view+json": {
       "model_id": "e167c41b75c94af383ef0868e601607c",
       "version_major": 2,
       "version_minor": 0
      },
      "text/plain": [
       "interactive(children=(Dropdown(description='col_calculo', options=('year', 'desplazamiento', 'cilindros', 'con…"
      ]
     },
     "metadata": {},
     "output_type": "display_data"
    }
   ],
   "source": [
    "interact(evolución_means, col_calculo=numerical_columns);"
   ]
  },
  {
   "cell_type": "markdown",
   "metadata": {},
   "source": [
    "\n",
    "Historically the displacement (and displacement) has been increasing. in manufactured vehicles, but as of 2010 this trend is reversed. both variables are linearly related."
   ]
  },
  {
   "cell_type": "code",
   "execution_count": 35,
   "metadata": {},
   "outputs": [
    {
     "data": {
      "text/plain": [
       "<matplotlib.axes._subplots.AxesSubplot at 0x7fe65cf6c908>"
      ]
     },
     "execution_count": 35,
     "metadata": {},
     "output_type": "execute_result"
    },
    {
     "data": {
      "image/png": "[encoded data removed]",
      "text/plain": [
       "<Figure size 720x720 with 1 Axes>"
      ]
     },
     "metadata": {
      "needs_background": "light"
     },
     "output_type": "display_data"
    }
   ],
   "source": [
    "vehicles.plot.scatter(x=\"cilindros\",y=\"desplazamiento\")"
   ]
  },
  {
   "cell_type": "code",
   "execution_count": 40,
   "metadata": {},
   "outputs": [],
   "source": [
    "def recount_evolution(col_calculo):\n",
    "    for category in vehicles_pre_2017[col_calculo].unique():\n",
    "        n_vehiculos_categoria_ano = vehicles_pre_2017[vehicles_pre_2017[col_calculo]==category].groupby(\n",
    "            'year').apply(np.size)\n",
    "        plt.plot(\n",
    "            n_vehiculos_categoria_ano.index,\n",
    "            n_vehiculos_categoria_ano,\n",
    "            label=category\n",
    "        )\n",
    "        plt.legend()"
   ]
  },
  {
   "cell_type": "code",
   "execution_count": 41,
   "metadata": {},
   "outputs": [
    {
     "data": {
      "image/png": "[encoded data removed]",
      "text/plain": [
       "<Figure size 720x720 with 1 Axes>"
      ]
     },
     "metadata": {
      "needs_background": "light"
     },
     "output_type": "display_data"
    }
   ],
   "source": [
    "recount_evolution(\"clase_tipo\")"
   ]
  },
  {
   "cell_type": "markdown",
   "metadata": {},
   "source": [
    "\n",
    "\n",
    "# Conclusions of the analysis\n",
    "\n",
    "\n",
    "#### Description\n",
    "\n",
    "The dataset consists of information relating to vehicles sold in the USA since 1985. This information includes technical details (displacement, type of transmission) and environmental details (gasoline consumption, CO2 emissions)\n",
    "\n",
    "\n",
    "The original file is at: https://www.fueleconomy.gov/feg/epadata/vehicles.csv.zip\n",
    "The file I use is a modified version (with fewer columns)\n",
    "\n",
    "Description of the Original dataset\n",
    "http://www.fueleconomy.gov/feg/ws/index.shtml#ft7\n",
    "\n",
    "\n",
    "The entities of which this dataset consists are:\n",
    "\n",
    "- manufacturer\n",
    "- manufacturer-model\n",
    "- manufacturer-model-year\n",
    "- manufacturer-year\n",
    "\n",
    "\n",
    "The variables that exist in said dataset are:\n",
    "\n",
    "```\n",
    "manufacturer       categorical\n",
    "model              categorical\n",
    "year               ordinal/numérical\n",
    "displacement       numérical\n",
    "cylinders          numérical\n",
    "transmission       categorical\n",
    "traction           categorical\n",
    "class              categorical\n",
    "gas                categorical\n",
    "consumption        numérical\n",
    "co2                numérical\n",
    "```\n",
    "\n",
    "#### QA\n",
    "\n",
    "\n",
    "- The variables displacement, cylinders, transmission and traction have nonexistent values\n",
    "- there is an outlier in the variables `co2` and` consumption`\n",
    "- There are hybrid cars and electric cars (we have removed the latter as they do not pollute).\n",
    "- The variable `consumption` is defined in miles per gallon and the variable` co2` is defined as grams per mile. Since co2 is the main variable of the dataset, we have created the variable `consumption_litros_milla` defined as liters per mile to be able to compare with` co2`\n",
    "\n",
    "####  Distribution of variables\n",
    "\n",
    "\n",
    "- No numerical variable follows a normal distribution\n",
    "\n",
    "- the numerical variable `cylinders` has an unbalanced distribution of discrete values ​​(displacement of 2 and 4 and 8 add up to 95% of the vehicles). It could be grouped as a categorical variable (2, 4, 8 and another)\n",
    "\n",
    "- The manufacturer with the largest number of models is Chevrolet (10% of the total)\n",
    "\n",
    "- 65% of the vehicles use normal gasoline\n",
    "\n",
    "- The distribution of motor and consumption sizes and co2 is balanced throughout the range\n",
    "\n",
    "- 70% of the vehicles use two-wheel drive\n",
    "\n",
    "- Two thirds of cars have automatic transmission\n",
    "\n",
    "- The majority class of vehicles is that of small cars (35% of the total)\n",
    "\n",
    "- There are linear relationships between cylinders / displacement and co2 / consumption_litros_milla\n",
    "\n",
    "#### Comparisons\n",
    "\n",
    "\n",
    "- There are more low-consumption two-wheel vehicles than 4-wheel drive\n",
    "- Manufacturers concentrate more on small / low consumption motor vehicles and very large / high consumption engine\n",
    "- Most cars have automatic transmission, with small cars having similar values ​​of automatic and manual cars\n",
    "- There are a number of trucks that are more polluting than any other type of car\n",
    "- Vehicles with automatic transmission have slightly higher CO2 and consumption values\n",
    "- Vans and vans have the highest consumption (around 0.25 liters / mile). On the other hand, family and small cars have the lowest gasoline consumption (~ 0.15 liters / mile)\n",
    "- the values ​​of co2 are similar regardless of the type of gasoline used\n",
    "- Premium gas trucks consume 38% more than small vehicles that use the same type of gasoline\n",
    "- The consumption and emission of CO2 have been falling continuously since 1985\n",
    "- Historically it has been increasing the displacement in manufactured vehicles, but as of 2010 this trend is reversed"
   ]
  },
  {
   "cell_type": "code",
   "execution_count": null,
   "metadata": {
    "collapsed": true
   },
   "outputs": [],
   "source": []
  }
 ],
 "metadata": {
  "kernelspec": {
   "display_name": "Python 3",
   "language": "python",
   "name": "python3"
  },
  "language_info": {
   "codemirror_mode": {
    "name": "ipython",
    "version": 3
   },
   "file_extension": ".py",
   "mimetype": "text/x-python",
   "name": "python",
   "nbconvert_exporter": "python",
   "pygments_lexer": "ipython3",
   "version": "3.7.1"
  }
 },
 "nbformat": 4,
 "nbformat_minor": 2
}
