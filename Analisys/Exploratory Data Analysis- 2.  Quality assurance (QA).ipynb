{
 "cells": [
  {
   "cell_type": "code",
   "execution_count": 1,
   "metadata": {},
   "outputs": [
    {
     "name": "stdout",
     "output_type": "stream",
     "text": [
      "2018-12-21T11:31:12-03:00\n",
      "\n",
      "CPython 3.6.0\n",
      "IPython 7.2.0\n",
      "\n",
      "compiler   : GCC 4.4.7 20120313 (Red Hat 4.4.7-1)\n",
      "system     : Linux\n",
      "release    : 4.15.0-43-generic\n",
      "machine    : x86_64\n",
      "processor  : x86_64\n",
      "CPU cores  : 8\n",
      "interpreter: 64bit\n"
     ]
    }
   ],
   "source": [
    "%load_ext watermark\n",
    "%watermark"
   ]
  },
  {
   "cell_type": "code",
   "execution_count": 2,
   "metadata": {},
   "outputs": [],
   "source": [
    "import pandas as pd"
   ]
  },
  {
   "cell_type": "code",
   "execution_count": 18,
   "metadata": {},
   "outputs": [],
   "source": [
    "%matplotlib inline\n",
    "import matplotlib.pyplot as plt\n",
    "\n",
    "plt.rcParams['figure.figsize'] = (12,12) # 10 inches wide and 10 high for all plots"
   ]
  },
  {
   "cell_type": "markdown",
   "metadata": {},
   "source": [
    "In this section I will review the dataset. The objective will be to have a dataset as similar to the original but without errors in it that could lead us to draw wrong conclusions.\n",
    "\n",
    "The input of this step is the output of the previous"
   ]
  },
  {
   "cell_type": "code",
   "execution_count": 6,
   "metadata": {},
   "outputs": [],
   "source": [
    "vehicles = pd.read_csv(\"../Data/vehiculos.1.procesado_inicial.csv\")"
   ]
  },
  {
   "cell_type": "code",
   "execution_count": 7,
   "metadata": {},
   "outputs": [
    {
     "data": {
      "text/plain": [
       "(38436, 11)"
      ]
     },
     "execution_count": 7,
     "metadata": {},
     "output_type": "execute_result"
    }
   ],
   "source": [
    "vehicles.shape"
   ]
  },
  {
   "cell_type": "markdown",
   "metadata": {},
   "source": [
    "### Duplicados\n",
    "\n",
    "In this section I try to see two things:\n",
    "\n",
    "* Make sure that data that should not be duplicated is not (for example, telephone numbers)\n",
    "\n",
    "* Check for columns that have a high number of duplicates, as they may not provide much information\n",
    "\n",
    "The possible entities were::   \n",
    "    \n",
    "- manufacturer\n",
    "- manufacturer-model\n",
    "- manufacturer-model-year\n",
    "- manufacturer-year\n",
    "\n",
    "Of these entities, the only ones that should not repeat specific cars, that is, manufacturer + model + year"
   ]
  },
  {
   "cell_type": "code",
   "execution_count": 9,
   "metadata": {},
   "outputs": [],
   "source": [
    "vehicles['modelo_unico'] = vehicles.fabricante.str.cat([vehicles.modelo, vehicles.year.apply(str)],sep='-')"
   ]
  },
  {
   "cell_type": "code",
   "execution_count": 10,
   "metadata": {
    "scrolled": true
   },
   "outputs": [
    {
     "data": {
      "text/plain": [
       "Jeep-Cherokee/Wagoneer-1985                24\n",
       "Chevrolet-C10 Pickup 2WD-1984              19\n",
       "Ford-F150 Pickup 2WD-1984                  19\n",
       "GMC-C15 Pickup 2WD-1984                    19\n",
       "GMC-S15 Pickup 2WD-1984                    18\n",
       "GMC-C15 Pickup 2WD-1985                    18\n",
       "Chevrolet-C10 Pickup 2WD-1985              18\n",
       "Chevrolet-S10 Pickup 2WD-1984              18\n",
       "Dodge-Ram 50 Pickup 2WD-1984               17\n",
       "GMC-C15 Pickup 2WD-1986                    17\n",
       "Mitsubishi-Truck 2WD-1984                  17\n",
       "Chevrolet-C10 Pickup 2WD-1986              17\n",
       "Ford-Ranger Pickup 2WD-1984                17\n",
       "Ford-Escort-1984                           16\n",
       "Mercury-Lynx-1984                          16\n",
       "Ford-Escort-1985                           16\n",
       "Chevrolet-G10/20 Van 2WD-1984              16\n",
       "Volkswagen-Rabbit-1984                     16\n",
       "GMC-Vandura G15/25 2WD-1984                16\n",
       "Ford-F150 Pickup 2WD-1985                  16\n",
       "Ford-E150 Econoline 2WD-1984               15\n",
       "Volkswagen-Jetta-1984                      15\n",
       "Ford-F150 Pickup 4WD-1984                  15\n",
       "Ford-F250 Pickup 2WD-1985                  15\n",
       "Dodge-D100/D150 Pickup 2WD-1985            15\n",
       "Ford-Bronco 4WD-1984                       15\n",
       "Volvo-240 DL/GL/Turbo Wagon-1984           14\n",
       "Chevrolet-G10/20 Van 2WD-1986              14\n",
       "Chevrolet-G10/20 Van 2WD-1985              14\n",
       "Volvo-240 DL/GL/Turbo-1984                 14\n",
       "                                           ..\n",
       "BMW-M Coupe-2001                            1\n",
       "BMW-745i-2005                               1\n",
       "Land Rover-LR3-2009                         1\n",
       "Volvo-S80 AWD-2013                          1\n",
       "Volvo-V90 FWD-2018                          1\n",
       "Mercedes-Benz-CLK430-2000                   1\n",
       "Audi-A8-2005                                1\n",
       "Chevrolet-Impala Police-2004                1\n",
       "Lexus-GS 450h-2009                          1\n",
       "Lotus-Esprit Turbo-1991                     1\n",
       "Chrysler-Prowler-2002                       1\n",
       "Mercedes-Benz-SLK350-2014                   1\n",
       "Mercedes-Benz-AMG C43 4matic Coupe-2017     1\n",
       "BMW-650i xDrive Gran Coupe-2013             1\n",
       "Mercury-Grand Marquis-2000                  1\n",
       "BMW-318i/318iS-1992                         1\n",
       "Toyota-Sienna AWD-2014                      1\n",
       "Bentley-Arnage-2004                         1\n",
       "Buick-Lucerne FFV-2010                      1\n",
       "Chevrolet-Traverse FWD-2013                 1\n",
       "Isis Imports Ltd-Morgan Plus 8-1992         1\n",
       "Mercedes-Benz-E320 Wagon 4Matic-1999        1\n",
       "Chrysler-Town and Country 4WD-1994          1\n",
       "Ford-LTD Crown Victoria Wagon-1985          1\n",
       "Toyota-Highlander 4WD-2013                  1\n",
       "Porsche-Macan S-2015                        1\n",
       "BMW-Z4 M Coupe-2007                         1\n",
       "Jaguar-XKR Convertible-2005                 1\n",
       "Vixen Motor Company-21 TD-1986              1\n",
       "Chevrolet-Astro 2WD (passenger)-1991        1\n",
       "Name: modelo_unico, Length: 17448, dtype: int64"
      ]
     },
     "execution_count": 10,
     "metadata": {},
     "output_type": "execute_result"
    }
   ],
   "source": [
    "vehicles.modelo_unico.value_counts()"
   ]
  },
  {
   "cell_type": "markdown",
   "metadata": {},
   "source": [
    "I realize that there are many repeated"
   ]
  },
  {
   "cell_type": "code",
   "execution_count": 11,
   "metadata": {},
   "outputs": [
    {
     "data": {
      "text/html": [
       "<div>\n",
       "<style scoped>\n",
       "    .dataframe tbody tr th:only-of-type {\n",
       "        vertical-align: middle;\n",
       "    }\n",
       "\n",
       "    .dataframe tbody tr th {\n",
       "        vertical-align: top;\n",
       "    }\n",
       "\n",
       "    .dataframe thead th {\n",
       "        text-align: right;\n",
       "    }\n",
       "</style>\n",
       "<table border=\"1\" class=\"dataframe\">\n",
       "  <thead>\n",
       "    <tr style=\"text-align: right;\">\n",
       "      <th></th>\n",
       "      <th>fabricante</th>\n",
       "      <th>modelo</th>\n",
       "      <th>year</th>\n",
       "      <th>desplazamiento</th>\n",
       "      <th>cilindros</th>\n",
       "      <th>transmision</th>\n",
       "      <th>traccion</th>\n",
       "      <th>clase</th>\n",
       "      <th>combustible</th>\n",
       "      <th>consumo</th>\n",
       "      <th>co2</th>\n",
       "      <th>modelo_unico</th>\n",
       "    </tr>\n",
       "  </thead>\n",
       "  <tbody>\n",
       "    <tr>\n",
       "      <th>4957</th>\n",
       "      <td>Chevrolet</td>\n",
       "      <td>C1500 Pickup 2WD</td>\n",
       "      <td>1991</td>\n",
       "      <td>4.3</td>\n",
       "      <td>6.0</td>\n",
       "      <td>Automatic 4-spd</td>\n",
       "      <td>Rear-Wheel Drive</td>\n",
       "      <td>Standard Pickup Trucks</td>\n",
       "      <td>Regular</td>\n",
       "      <td>17</td>\n",
       "      <td>522.764706</td>\n",
       "      <td>Chevrolet-C1500 Pickup 2WD-1991</td>\n",
       "    </tr>\n",
       "    <tr>\n",
       "      <th>4958</th>\n",
       "      <td>Chevrolet</td>\n",
       "      <td>C1500 Pickup 2WD</td>\n",
       "      <td>1991</td>\n",
       "      <td>4.3</td>\n",
       "      <td>6.0</td>\n",
       "      <td>Manual 4-spd</td>\n",
       "      <td>Rear-Wheel Drive</td>\n",
       "      <td>Standard Pickup Trucks</td>\n",
       "      <td>Regular</td>\n",
       "      <td>17</td>\n",
       "      <td>522.764706</td>\n",
       "      <td>Chevrolet-C1500 Pickup 2WD-1991</td>\n",
       "    </tr>\n",
       "    <tr>\n",
       "      <th>4959</th>\n",
       "      <td>Chevrolet</td>\n",
       "      <td>C1500 Pickup 2WD</td>\n",
       "      <td>1991</td>\n",
       "      <td>4.3</td>\n",
       "      <td>6.0</td>\n",
       "      <td>Manual 5-spd</td>\n",
       "      <td>Rear-Wheel Drive</td>\n",
       "      <td>Standard Pickup Trucks</td>\n",
       "      <td>Regular</td>\n",
       "      <td>17</td>\n",
       "      <td>522.764706</td>\n",
       "      <td>Chevrolet-C1500 Pickup 2WD-1991</td>\n",
       "    </tr>\n",
       "    <tr>\n",
       "      <th>4960</th>\n",
       "      <td>Chevrolet</td>\n",
       "      <td>C1500 Pickup 2WD</td>\n",
       "      <td>1991</td>\n",
       "      <td>4.3</td>\n",
       "      <td>6.0</td>\n",
       "      <td>Manual 5-spd</td>\n",
       "      <td>Rear-Wheel Drive</td>\n",
       "      <td>Standard Pickup Trucks</td>\n",
       "      <td>Regular</td>\n",
       "      <td>17</td>\n",
       "      <td>522.764706</td>\n",
       "      <td>Chevrolet-C1500 Pickup 2WD-1991</td>\n",
       "    </tr>\n",
       "    <tr>\n",
       "      <th>4961</th>\n",
       "      <td>Chevrolet</td>\n",
       "      <td>C1500 Pickup 2WD</td>\n",
       "      <td>1991</td>\n",
       "      <td>5.0</td>\n",
       "      <td>8.0</td>\n",
       "      <td>Automatic 4-spd</td>\n",
       "      <td>Rear-Wheel Drive</td>\n",
       "      <td>Standard Pickup Trucks</td>\n",
       "      <td>Regular</td>\n",
       "      <td>15</td>\n",
       "      <td>592.466667</td>\n",
       "      <td>Chevrolet-C1500 Pickup 2WD-1991</td>\n",
       "    </tr>\n",
       "  </tbody>\n",
       "</table>\n",
       "</div>"
      ],
      "text/plain": [
       "     fabricante            modelo  year  desplazamiento  cilindros  \\\n",
       "4957  Chevrolet  C1500 Pickup 2WD  1991             4.3        6.0   \n",
       "4958  Chevrolet  C1500 Pickup 2WD  1991             4.3        6.0   \n",
       "4959  Chevrolet  C1500 Pickup 2WD  1991             4.3        6.0   \n",
       "4960  Chevrolet  C1500 Pickup 2WD  1991             4.3        6.0   \n",
       "4961  Chevrolet  C1500 Pickup 2WD  1991             5.0        8.0   \n",
       "\n",
       "          transmision          traccion                   clase combustible  \\\n",
       "4957  Automatic 4-spd  Rear-Wheel Drive  Standard Pickup Trucks     Regular   \n",
       "4958     Manual 4-spd  Rear-Wheel Drive  Standard Pickup Trucks     Regular   \n",
       "4959     Manual 5-spd  Rear-Wheel Drive  Standard Pickup Trucks     Regular   \n",
       "4960     Manual 5-spd  Rear-Wheel Drive  Standard Pickup Trucks     Regular   \n",
       "4961  Automatic 4-spd  Rear-Wheel Drive  Standard Pickup Trucks     Regular   \n",
       "\n",
       "      consumo         co2                     modelo_unico  \n",
       "4957       17  522.764706  Chevrolet-C1500 Pickup 2WD-1991  \n",
       "4958       17  522.764706  Chevrolet-C1500 Pickup 2WD-1991  \n",
       "4959       17  522.764706  Chevrolet-C1500 Pickup 2WD-1991  \n",
       "4960       17  522.764706  Chevrolet-C1500 Pickup 2WD-1991  \n",
       "4961       15  592.466667  Chevrolet-C1500 Pickup 2WD-1991  "
      ]
     },
     "execution_count": 11,
     "metadata": {},
     "output_type": "execute_result"
    }
   ],
   "source": [
    "vehicles[vehicles.modelo_unico=='Chevrolet-C1500 Pickup 2WD-1991'].head()"
   ]
  },
  {
   "cell_type": "markdown",
   "metadata": {},
   "source": [
    "as can be seen, each unique model has different configurations of each car (3 speeds or 4 for example)\n",
    "\n",
    "Therefore,I am only going to consider duplicates those records that are identical in all their columns"
   ]
  },
  {
   "cell_type": "code",
   "execution_count": 12,
   "metadata": {},
   "outputs": [
    {
     "data": {
      "text/plain": [
       "(1506, 12)"
      ]
     },
     "execution_count": 12,
     "metadata": {},
     "output_type": "execute_result"
    }
   ],
   "source": [
    "vehicles[vehicles.duplicated()].shape"
   ]
  },
  {
   "cell_type": "markdown",
   "metadata": {},
   "source": [
    "as can be seen that there are 1506 duplicate records, I can eliminate them for the rest of the analysis because they can distort the conclusions"
   ]
  },
  {
   "cell_type": "code",
   "execution_count": 13,
   "metadata": {},
   "outputs": [
    {
     "data": {
      "text/plain": [
       "(36930, 12)"
      ]
     },
     "execution_count": 13,
     "metadata": {},
     "output_type": "execute_result"
    }
   ],
   "source": [
    "vehicles = vehicles.drop_duplicates()\n",
    "vehicles.shape"
   ]
  },
  {
   "cell_type": "markdown",
   "metadata": {},
   "source": [
    "We delete the column `modelo_unico`"
   ]
  },
  {
   "cell_type": "code",
   "execution_count": 14,
   "metadata": {},
   "outputs": [],
   "source": [
    "del vehicles['modelo_unico']"
   ]
  },
  {
   "cell_type": "markdown",
   "metadata": {},
   "source": [
    "Now we need to see if there are variables in which there are a large number of records that have the same value (cardinality)."
   ]
  },
  {
   "cell_type": "code",
   "execution_count": 15,
   "metadata": {},
   "outputs": [
    {
     "name": "stdout",
     "output_type": "stream",
     "text": [
      "fabricante | 0.1-0.0 | object\n",
      "modelo | 0.005-0.0 | object\n",
      "year | 0.038-0.007 | int64\n",
      "desplazamiento | 0.095-0.0 | float64\n",
      "cilindros | 0.38-0.0 | float64\n",
      "transmision | 0.287-0.0 | object\n",
      "traccion | 0.353-0.005 | object\n",
      "clase | 0.145-0.0 | object\n",
      "combustible | 0.652-0.0 | object\n",
      "consumo | 0.097-0.0 | int64\n",
      "co2 | 0.084-0.0 | float64\n"
     ]
    }
   ],
   "source": [
    "n_records = len(vehicles)\n",
    "def valores_duplicados_col(df):\n",
    "    for columna in df:\n",
    "        n_por_valor = df[columna].value_counts()\n",
    "        mas_comun = n_por_valor.iloc[0]\n",
    "        menos_comun = n_por_valor.iloc[-1]\n",
    "        print(\"{} | {}-{} | {}\".format(\n",
    "            df[columna].name,\n",
    "            round(mas_comun / (1.0*n_records),3),\n",
    "            round(menos_comun / (1.0*n_records),3),\n",
    "            df[columna].dtype\n",
    "        ))\n",
    "\n",
    "valores_duplicados_col(vehicles)"
   ]
  },
  {
   "cell_type": "markdown",
   "metadata": {},
   "source": [
    "I see that the fields `traccion, transmission, cilindros y combustible` can have a problem of repeated values, in reality 30% is not very dramatic, it would be different if the most common value had 90%."
   ]
  },
  {
   "cell_type": "code",
   "execution_count": 16,
   "metadata": {},
   "outputs": [
    {
     "data": {
      "text/plain": [
       "Front-Wheel Drive             0.360280\n",
       "Rear-Wheel Drive              0.352863\n",
       "4-Wheel or All-Wheel Drive    0.177345\n",
       "All-Wheel Drive               0.062325\n",
       "4-Wheel Drive                 0.030886\n",
       "2-Wheel Drive                 0.011402\n",
       "Part-time 4-Wheel Drive       0.004899\n",
       "Name: traccion, dtype: float64"
      ]
     },
     "execution_count": 16,
     "metadata": {},
     "output_type": "execute_result"
    }
   ],
   "source": [
    "vehicles.traccion.value_counts(normalize=True)"
   ]
  },
  {
   "cell_type": "markdown",
   "metadata": {},
   "source": [
    "as can be seen that this makes sense, since the vast majority of vehicles have two-wheel drive, either front or rear.\n",
    "\n",
    "In this case, someone with domain knowledge might realize that 2-Wheel Drive is probably just a different classification of Front or Rear.\n",
    "\n",
    "https://www.edmunds.com/car-technology/what-wheel-drive.html"
   ]
  },
  {
   "cell_type": "code",
   "execution_count": 19,
   "metadata": {},
   "outputs": [
    {
     "data": {
      "image/png": "[encoded data removed]",
      "text/plain": [
       "<Figure size 864x864 with 1 Axes>"
      ]
     },
     "metadata": {
      "needs_background": "light"
     },
     "output_type": "display_data"
    }
   ],
   "source": [
    "vehicles.transmision.value_counts(normalize=True).plot.barh();"
   ]
  },
  {
   "cell_type": "markdown",
   "metadata": {},
   "source": [
    "although transmission has a relatively high cardinality, it actually shows a distribution of types, with two major classes"
   ]
  },
  {
   "cell_type": "code",
   "execution_count": 20,
   "metadata": {},
   "outputs": [
    {
     "data": {
      "image/png": "[encoded data removed]",
      "text/plain": [
       "<Figure size 864x864 with 1 Axes>"
      ]
     },
     "metadata": {
      "needs_background": "light"
     },
     "output_type": "display_data"
    }
   ],
   "source": [
    "vehicles.cilindros.hist();"
   ]
  },
  {
   "cell_type": "code",
   "execution_count": 21,
   "metadata": {},
   "outputs": [
    {
     "data": {
      "image/png": "[encoded data removed]",
      "text/plain": [
       "<Figure size 864x864 with 1 Axes>"
      ]
     },
     "metadata": {
      "needs_background": "light"
     },
     "output_type": "display_data"
    }
   ],
   "source": [
    "vehicles.combustible.value_counts(normalize=True).plot.barh();"
   ]
  },
  {
   "cell_type": "markdown",
   "metadata": {},
   "source": [
    "The column `combustible`  can have a problem having 65% of the cases petrol `Regular`"
   ]
  },
  {
   "cell_type": "markdown",
   "metadata": {},
   "source": [
    "### Non-existent values"
   ]
  },
  {
   "cell_type": "code",
   "execution_count": 22,
   "metadata": {},
   "outputs": [
    {
     "name": "stdout",
     "output_type": "stream",
     "text": [
      "fabricante | 0.0 | object\n",
      "modelo | 0.0 | object\n",
      "year | 0.0 | int64\n",
      "desplazamiento | 0.0037909558624424585 | float64\n",
      "cilindros | 0.003845112374763065 | float64\n",
      "transmision | 0.00029786081776333605 | object\n",
      "traccion | 0.02158137015976171 | object\n",
      "clase | 0.0 | object\n",
      "combustible | 0.0 | object\n",
      "consumo | 0.0 | int64\n",
      "co2 | 0.0 | float64\n"
     ]
    }
   ],
   "source": [
    "n_records = len(vehicles)\n",
    "def valores_inexistentes_col(df):\n",
    "    for columna in df:\n",
    "        print(\"{} | {} | {}\".format(\n",
    "            df[columna].name, len(df[df[columna].isnull()]) / (1.0*n_records), df[columna].dtype\n",
    "        ))\n",
    "\n",
    "valores_inexistentes_col(vehicles)"
   ]
  },
  {
   "cell_type": "markdown",
   "metadata": {},
   "source": [
    "as can be seen that field `traction, cylinders and transmission` have nonexistent values. However, they are negligible amounts (maximum is the traction variable with 3% nonexistent)\n"
   ]
  },
  {
   "cell_type": "markdown",
   "metadata": {},
   "source": [
    "### outliers"
   ]
  },
  {
   "cell_type": "markdown",
   "metadata": {},
   "source": [
    "To detect extreme values, a general measure is to consider outliers those values with a Z score (z score) greater than 3, that is, they move 3 times or more standard deviations away from the average.\n",
    "\n",
    "The z score is defined as:\n",
    "\n",
    "$$z(x)= \\frac{x-\\mu}{\\sigma}$$"
   ]
  },
  {
   "cell_type": "code",
   "execution_count": 23,
   "metadata": {},
   "outputs": [
    {
     "name": "stdout",
     "output_type": "stream",
     "text": [
      "year | 0 | int64\n",
      "desplazamiento | 0 | float64\n",
      "cilindros | 0 | float64\n",
      "consumo | 233 | int64\n",
      "co2 | 358 | float64\n"
     ]
    },
    {
     "name": "stderr",
     "output_type": "stream",
     "text": [
      "/home/crespo/anaconda3/envs/keras/lib/python3.6/site-packages/ipykernel_launcher.py:7: RuntimeWarning: invalid value encountered in greater\n",
      "  import sys\n"
     ]
    }
   ],
   "source": [
    "from scipy import stats\n",
    "import numpy as np\n",
    "\n",
    "def outliers_col(df):\n",
    "    for columna in df:\n",
    "        if df[columna].dtype != np.object:\n",
    "            n_outliers = len(df[np.abs(stats.zscore(df[columna])) > 3])    \n",
    "            print(\"{} | {} | {}\".format(\n",
    "                df[columna].name,\n",
    "                n_outliers,\n",
    "                df[columna].dtype\n",
    "        ))\n",
    "\n",
    "outliers_col(vehicles)"
   ]
  },
  {
   "cell_type": "markdown",
   "metadata": {},
   "source": [
    "As can be seen that the variables of consumption and co2 have outliers. We can make a boxplot to visualize this better"
   ]
  },
  {
   "cell_type": "code",
   "execution_count": 24,
   "metadata": {},
   "outputs": [
    {
     "data": {
      "image/png": "[encoded data removed]",
      "text/plain": [
       "<Figure size 864x864 with 1 Axes>"
      ]
     },
     "metadata": {
      "needs_background": "light"
     },
     "output_type": "display_data"
    }
   ],
   "source": [
    "vehicles.boxplot(column='consumo');"
   ]
  },
  {
   "cell_type": "code",
   "execution_count": 25,
   "metadata": {},
   "outputs": [
    {
     "data": {
      "image/png": "[encoded data removed]",
      "text/plain": [
       "<Figure size 864x864 with 1 Axes>"
      ]
     },
     "metadata": {
      "needs_background": "light"
     },
     "output_type": "display_data"
    }
   ],
   "source": [
    "vehicles.boxplot(column='co2');"
   ]
  },
  {
   "cell_type": "markdown",
   "metadata": {},
   "source": [
    "As can be seen that in terms of consumption there are some cars that pollute more than normal and others that pollute less than normal, we also see that there are cars that do not contaminate anything!\n",
    "\n",
    "Is it possible that there are cars that do not use gasoline in the dataset\n",
    "\n"
   ]
  },
  {
   "cell_type": "code",
   "execution_count": 26,
   "metadata": {},
   "outputs": [
    {
     "data": {
      "text/plain": [
       "array(['Electricity'], dtype=object)"
      ]
     },
     "execution_count": 26,
     "metadata": {},
     "output_type": "execute_result"
    }
   ],
   "source": [
    "vehicles[vehicles.co2==0].combustible.unique()"
   ]
  },
  {
   "cell_type": "code",
   "execution_count": 27,
   "metadata": {},
   "outputs": [
    {
     "data": {
      "text/plain": [
       "array(['Regular', 'Premium', 'Diesel', 'Premium and Electricity',\n",
       "       'Premium or E85', 'Electricity', 'Premium Gas or Electricity',\n",
       "       'Gasoline or E85', 'Gasoline or natural gas', 'CNG',\n",
       "       'Regular Gas or Electricity', 'Midgrade',\n",
       "       'Regular Gas and Electricity', 'Gasoline or propane'], dtype=object)"
      ]
     },
     "execution_count": 27,
     "metadata": {},
     "output_type": "execute_result"
    }
   ],
   "source": [
    "vehicles.combustible.unique()"
   ]
  },
  {
   "cell_type": "markdown",
   "metadata": {},
   "source": [
    "As can be seen that in this dataset there are hybrid vehicles and pure electric vehicles. Since the objective is pollution, it would be advisable to remove at least those vehicles that do not pollute!"
   ]
  },
  {
   "cell_type": "code",
   "execution_count": 28,
   "metadata": {},
   "outputs": [],
   "source": [
    "non_electric_vehicles = vehicles[vehicles.co2>0]"
   ]
  },
  {
   "cell_type": "markdown",
   "metadata": {},
   "source": [
    "Let's review the data again with the new dataset"
   ]
  },
  {
   "cell_type": "code",
   "execution_count": 29,
   "metadata": {},
   "outputs": [
    {
     "name": "stdout",
     "output_type": "stream",
     "text": [
      "year | 0 | int64\n",
      "desplazamiento | 0 | float64\n",
      "cilindros | 0 | float64\n",
      "consumo | 400 | int64\n",
      "co2 | 221 | float64\n"
     ]
    },
    {
     "name": "stderr",
     "output_type": "stream",
     "text": [
      "/home/crespo/anaconda3/envs/keras/lib/python3.6/site-packages/ipykernel_launcher.py:7: RuntimeWarning: invalid value encountered in greater\n",
      "  import sys\n"
     ]
    }
   ],
   "source": [
    "outliers_col(non_electric_vehicles)"
   ]
  },
  {
   "cell_type": "markdown",
   "metadata": {},
   "source": [
    "There are still outliers in terms of consumption and CO2. Is it because hybrid vehicles consume less? If it were for this, these extreme values are perfectly valid values and therefore we should not eliminate them"
   ]
  },
  {
   "cell_type": "code",
   "execution_count": 30,
   "metadata": {},
   "outputs": [
    {
     "data": {
      "text/plain": [
       "Regular                        0.7175\n",
       "Diesel                         0.1525\n",
       "Premium                        0.0550\n",
       "Regular Gas and Electricity    0.0475\n",
       "Premium Gas or Electricity     0.0200\n",
       "Regular Gas or Electricity     0.0050\n",
       "Premium and Electricity        0.0025\n",
       "Name: combustible, dtype: float64"
      ]
     },
     "execution_count": 30,
     "metadata": {},
     "output_type": "execute_result"
    }
   ],
   "source": [
    "non_electric_vehicles[\n",
    "    np.abs(stats.zscore(non_electric_vehicles[\"consumo\"])) > 3\n",
    "].combustible.value_counts(normalize=True)"
   ]
  },
  {
   "cell_type": "markdown",
   "metadata": {},
   "source": [
    "\n",
    "It is not the case, that there are outliers in a range of both hybrid and non-hybrid fuels. So they are real outliers."
   ]
  },
  {
   "cell_type": "code",
   "execution_count": 31,
   "metadata": {},
   "outputs": [
    {
     "name": "stdout",
     "output_type": "stream",
     "text": [
      "fabricante | 0.099-0.0 | object\n",
      "modelo | 0.005-0.0 | object\n",
      "year | 0.038-0.007 | int64\n",
      "desplazamiento | 0.095-0.0 | float64\n",
      "cilindros | 0.38-0.0 | float64\n",
      "transmision | 0.287-0.0 | object\n",
      "traccion | 0.351-0.005 | object\n",
      "clase | 0.145-0.0 | object\n",
      "combustible | 0.652-0.0 | object\n",
      "consumo | 0.097-0.0 | int64\n",
      "co2 | 0.084-0.0 | float64\n"
     ]
    }
   ],
   "source": [
    "valores_duplicados_col(non_electric_vehicles)"
   ]
  },
  {
   "cell_type": "markdown",
   "metadata": {},
   "source": [
    "### Non-existent values"
   ]
  },
  {
   "cell_type": "code",
   "execution_count": 32,
   "metadata": {},
   "outputs": [
    {
     "name": "stdout",
     "output_type": "stream",
     "text": [
      "fabricante | 0.0 | object\n",
      "modelo | 0.0 | object\n",
      "year | 0.0 | int64\n",
      "desplazamiento | 0.0037909558624424585 | float64\n",
      "cilindros | 0.003845112374763065 | float64\n",
      "transmision | 0.00029786081776333605 | object\n",
      "traccion | 0.02158137015976171 | object\n",
      "clase | 0.0 | object\n",
      "combustible | 0.0 | object\n",
      "consumo | 0.0 | int64\n",
      "co2 | 0.0 | float64\n"
     ]
    }
   ],
   "source": [
    "valores_inexistentes_col(vehicles)"
   ]
  },
  {
   "cell_type": "markdown",
   "metadata": {},
   "source": [
    "there are no extreme nonexistent values in any variable. The variable with the highest number of nonexistent values is traction (2%). Obviously, electric cars do not have a gasoline engine and therefore, have no cylinders"
   ]
  },
  {
   "cell_type": "markdown",
   "metadata": {},
   "source": [
    "### Conclusion\n",
    "- There are 1506 duplicate records (we have removed them)\n",
    "- the variables `displacement, cylinders, transmission and traction have non-existent values`\n",
    "- The variable `fuel` has a dominant class (65% of cars have` Regular` fuel)\n",
    "- there is an outlier in the variables `co2` and` consumption`\n",
    "- There are hybrid cars and electric cars (we have removed the latter as they do not pollute)."
   ]
  },
  {
   "cell_type": "markdown",
   "metadata": {},
   "source": []
  },
  {
   "cell_type": "code",
   "execution_count": 33,
   "metadata": {},
   "outputs": [],
   "source": [
    "non_electric_vehicles.to_csv(\"../Data/vehiculos.2.limpio_analisis.csv\", index=False)"
   ]
  },
  {
   "cell_type": "code",
   "execution_count": null,
   "metadata": {},
   "outputs": [],
   "source": []
  }
 ],
 "metadata": {
  "kernelspec": {
   "display_name": "Python 3",
   "language": "python",
   "name": "python3"
  },
  "language_info": {
   "codemirror_mode": {
    "name": "ipython",
    "version": 3
   },
   "file_extension": ".py",
   "mimetype": "text/x-python",
   "name": "python",
   "nbconvert_exporter": "python",
   "pygments_lexer": "ipython3",
   "version": "3.7.1"
  }
 },
 "nbformat": 4,
 "nbformat_minor": 2
}
